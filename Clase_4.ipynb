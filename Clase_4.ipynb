{
  "nbformat": 4,
  "nbformat_minor": 0,
  "metadata": {
    "colab": {
      "provenance": [],
      "include_colab_link": true
    },
    "kernelspec": {
      "name": "python3",
      "display_name": "Python 3"
    },
    "language_info": {
      "name": "python"
    }
  },
  "cells": [
    {
      "cell_type": "markdown",
      "metadata": {
        "id": "view-in-github",
        "colab_type": "text"
      },
      "source": [
        "<a href=\"https://colab.research.google.com/github/malbatahan100/curso1/blob/main/Clase_4.ipynb\" target=\"_parent\"><img src=\"https://colab.research.google.com/assets/colab-badge.svg\" alt=\"Open In Colab\"/></a>"
      ]
    },
    {
      "cell_type": "markdown",
      "source": [
        "# Clase 4"
      ],
      "metadata": {
        "id": "xnKVxz9sZM2_"
      }
    },
    {
      "cell_type": "markdown",
      "source": [
        "## Funciones definidas por el usuario"
      ],
      "metadata": {
        "id": "7m0fKyPrlT8M"
      }
    },
    {
      "cell_type": "markdown",
      "source": [
        "1. Crea una función que imprima un mensaje predeterminado cada vez que se requiera."
      ],
      "metadata": {
        "id": "VWE-bxxnlY23"
      }
    },
    {
      "cell_type": "code",
      "execution_count": null,
      "metadata": {
        "id": "Zd4kIvXZZKei"
      },
      "outputs": [],
      "source": [
        "def saludar():\n",
        "  return \"Hola, cómo estás\""
      ]
    },
    {
      "cell_type": "code",
      "source": [
        "mensaje = saludar()\n",
        "print(mensaje)"
      ],
      "metadata": {
        "colab": {
          "base_uri": "https://localhost:8080/"
        },
        "id": "P3CUVzfalfPa",
        "outputId": "c60f56ed-c059-4315-b943-a88921e975d8"
      },
      "execution_count": null,
      "outputs": [
        {
          "output_type": "stream",
          "name": "stdout",
          "text": [
            "Hola, cómo estás\n"
          ]
        }
      ]
    },
    {
      "cell_type": "markdown",
      "source": [
        "2. Crea una función que imprima un “mensaje del día” aleatorio (los mensajes estarán\n",
        "almacenados en una lista)"
      ],
      "metadata": {
        "id": "UUUSkvlymx4O"
      }
    },
    {
      "cell_type": "code",
      "source": [
        "def mensaje_del_dia():\n",
        "  import random\n",
        "  mensajes = [\"Hoy es un buen día\",\"Aprendamos a programar\",\"Sigue participando\"]\n",
        "  return random.choice(mensajes)"
      ],
      "metadata": {
        "id": "yIabEa6Wmytn"
      },
      "execution_count": null,
      "outputs": []
    },
    {
      "cell_type": "code",
      "source": [
        "mensaje = mensaje_del_dia()\n",
        "print(mensaje)"
      ],
      "metadata": {
        "colab": {
          "base_uri": "https://localhost:8080/"
        },
        "id": "ORhojqMUmy-x",
        "outputId": "6cb13818-c51f-4b13-c2ae-9785cd07e23f"
      },
      "execution_count": null,
      "outputs": [
        {
          "output_type": "stream",
          "name": "stdout",
          "text": [
            "Aprendamos a programar\n"
          ]
        }
      ]
    },
    {
      "cell_type": "markdown",
      "source": [
        "3. Crea una función que obtenga el área de un triángulo al ingresarle los parámetros de base y\n",
        "altura."
      ],
      "metadata": {
        "id": "STjjvV1johtG"
      }
    },
    {
      "cell_type": "code",
      "source": [
        "def calcular_area_triangulo(base, altura):\n",
        "  area = base*altura/2\n",
        "  return area"
      ],
      "metadata": {
        "id": "IoB4YrGxoied"
      },
      "execution_count": null,
      "outputs": []
    },
    {
      "cell_type": "code",
      "source": [
        "area = calcular_area_triangulo(10, 20)\n",
        "print(area)"
      ],
      "metadata": {
        "colab": {
          "base_uri": "https://localhost:8080/"
        },
        "id": "1Dvqk5rFojtI",
        "outputId": "10fe335e-85ca-4496-e281-29d850f9f99f"
      },
      "execution_count": null,
      "outputs": [
        {
          "output_type": "stream",
          "name": "stdout",
          "text": [
            "100.0\n"
          ]
        }
      ]
    },
    {
      "cell_type": "markdown",
      "source": [
        "4. Crea una función que obtenga el promedio de 3 notas."
      ],
      "metadata": {
        "id": "dyJb8iNYpjTk"
      }
    },
    {
      "cell_type": "code",
      "source": [
        "def obtener_promedio(nota1, nota2, nota3):\n",
        "  prom = round((nota1 + nota2 + nota3)/3, 2)\n",
        "  return prom"
      ],
      "metadata": {
        "id": "ZtvBuRahpj4a"
      },
      "execution_count": null,
      "outputs": []
    },
    {
      "cell_type": "code",
      "source": [
        "promedio_alumno1 = obtener_promedio(15,18,10)\n",
        "promedio_alumno2 = obtener_promedio(8,19,17)\n",
        "\n",
        "print(\"Promedio del alumno 1:\",promedio_alumno1)\n",
        "print(\"Promedio del alumno 2:\",promedio_alumno2)"
      ],
      "metadata": {
        "colab": {
          "base_uri": "https://localhost:8080/"
        },
        "id": "dpRbNluRpkCq",
        "outputId": "270a13f2-3098-42d9-e3c6-1516949cc2c1"
      },
      "execution_count": null,
      "outputs": [
        {
          "output_type": "stream",
          "name": "stdout",
          "text": [
            "Promedio del alumno 1: 14.33\n",
            "Promedio del alumno 2: 14.67\n"
          ]
        }
      ]
    },
    {
      "cell_type": "markdown",
      "source": [
        "5. Crea una función que obtenga el número de palabras de un texto"
      ],
      "metadata": {
        "id": "v0OnEXMwrZS_"
      }
    },
    {
      "cell_type": "code",
      "source": [
        "def numero_de_palabras(texto):\n",
        "  lista = texto.split()\n",
        "  cantidad = len(lista)\n",
        "  return cantidad"
      ],
      "metadata": {
        "id": "7mMdY6hUrZ8X"
      },
      "execution_count": null,
      "outputs": []
    },
    {
      "cell_type": "code",
      "source": [
        "cantidad = numero_de_palabras(\"Aprendamos a programar en Python\")\n",
        "print(cantidad)"
      ],
      "metadata": {
        "colab": {
          "base_uri": "https://localhost:8080/"
        },
        "id": "psFm-FfbraHu",
        "outputId": "927d0c5f-efa0-4f6c-ec6b-a3f843aa17e2"
      },
      "execution_count": null,
      "outputs": [
        {
          "output_type": "stream",
          "name": "stdout",
          "text": [
            "5\n"
          ]
        }
      ]
    },
    {
      "cell_type": "markdown",
      "source": [
        "6. Crea una función que nos imprima una lista con los n primeros números de la serie de Fibonacci"
      ],
      "metadata": {
        "id": "79L2dCbhtYre"
      }
    },
    {
      "cell_type": "markdown",
      "source": [
        "[0,1,1,2,3,5,8,13,21,34,55,89,144,..]"
      ],
      "metadata": {
        "id": "MJIayaITtjmo"
      }
    },
    {
      "cell_type": "code",
      "source": [
        "def Fibonacci(n):\n",
        "  if n == 1:\n",
        "    return [0]\n",
        "  elif n == 2:\n",
        "    return [0,1]\n",
        "  elif n > 2:\n",
        "    serie = Fibonacci(n-1)\n",
        "    serie.append(serie[-1]+serie[-2])\n",
        "    return serie\n"
      ],
      "metadata": {
        "id": "6PTbGGFZta1r"
      },
      "execution_count": null,
      "outputs": []
    },
    {
      "cell_type": "code",
      "source": [
        "lista_fibonacci = Fibonacci(20)\n",
        "print(lista_fibonacci)"
      ],
      "metadata": {
        "colab": {
          "base_uri": "https://localhost:8080/"
        },
        "id": "0r8tMl2GtbFh",
        "outputId": "dbda2450-6c25-4b08-ae11-20fcc9e09347"
      },
      "execution_count": null,
      "outputs": [
        {
          "output_type": "stream",
          "name": "stdout",
          "text": [
            "[0, 1, 1, 2, 3, 5, 8, 13, 21, 34, 55, 89, 144, 233, 377, 610, 987, 1597, 2584, 4181]\n"
          ]
        }
      ]
    },
    {
      "cell_type": "code",
      "source": [
        "def fibonacci(n):\n",
        "    a, b = 0, 1\n",
        "    for _ in range(n):\n",
        "        print(a, end=\" \")\n",
        "        a, b = b, a + b\n",
        "\n",
        "# Solicitar al usuario el número de términos de la serie Fibonacci a generar\n",
        "n = int(input(\"Ingrese el número de términos de la serie Fibonacci a generar: \"))\n",
        "fibonacci(n)"
      ],
      "metadata": {
        "colab": {
          "base_uri": "https://localhost:8080/"
        },
        "id": "K9QV8jRNyZyL",
        "outputId": "7e065abc-15c9-407d-c3de-c4ab94f2ec6b"
      },
      "execution_count": null,
      "outputs": [
        {
          "output_type": "stream",
          "name": "stdout",
          "text": [
            "Ingrese el número de términos de la serie Fibonacci a generar: 20\n",
            "0 1 1 2 3 5 8 13 21 34 55 89 144 233 377 610 987 1597 2584 4181 "
          ]
        }
      ]
    },
    {
      "cell_type": "markdown",
      "source": [
        "7. Crea una función que obtenga el factorial de un número"
      ],
      "metadata": {
        "id": "9OgTWY-0yPeU"
      }
    },
    {
      "cell_type": "code",
      "source": [
        "def factorial(numero):\n",
        "    if numero < 0:\n",
        "        return \"No se puede calcular el factorial de un número negativo.\"\n",
        "    elif numero == 0:\n",
        "        return 1\n",
        "    else:\n",
        "        resultado = 1\n",
        "        for i in range(1, numero + 1):\n",
        "            resultado *= i\n",
        "        return resultado\n",
        "# Ejemplo de uso con el numero que tenga un valor de 5\n",
        "numero = 5\n",
        "print(\"El factorial de\", numero, \"es:\", factorial(numero))"
      ],
      "metadata": {
        "colab": {
          "base_uri": "https://localhost:8080/"
        },
        "id": "-6r8e-ZnySAb",
        "outputId": "d2b26b86-ed60-4057-bfe1-d440e5973421"
      },
      "execution_count": null,
      "outputs": [
        {
          "output_type": "stream",
          "name": "stdout",
          "text": [
            "El factorial de 5 es: 120\n"
          ]
        }
      ]
    },
    {
      "cell_type": "code",
      "source": [
        "def factorial(numero):\n",
        "    if numero < 0:\n",
        "        return \"No se puede calcular el factorial de un número negativo.\"\n",
        "    elif numero == 0:\n",
        "        return 1\n",
        "    else:\n",
        "        return factorial(numero - 1)*numero\n"
      ],
      "metadata": {
        "id": "oToftPxMz3zy"
      },
      "execution_count": null,
      "outputs": []
    },
    {
      "cell_type": "code",
      "source": [
        "fact = factorial(6)\n",
        "print(fact)"
      ],
      "metadata": {
        "colab": {
          "base_uri": "https://localhost:8080/"
        },
        "id": "fmVGlZVWySU8",
        "outputId": "cc490695-c87f-461a-d41c-02ed067a4c02"
      },
      "execution_count": null,
      "outputs": [
        {
          "output_type": "stream",
          "name": "stdout",
          "text": [
            "720\n"
          ]
        }
      ]
    },
    {
      "cell_type": "markdown",
      "source": [
        "8. Crea una función que obtenga una lista con todos los divisores de un número"
      ],
      "metadata": {
        "id": "kbc_wMBd0vLL"
      }
    },
    {
      "cell_type": "code",
      "source": [
        "def Divisores_de(n): # n = 12\n",
        "  divisores = []\n",
        "  for i in range(n): # 0, 1, 2, ... , 11\n",
        "    if n % (i+1) == 0:\n",
        "      divisores.append(i+1)\n",
        "\n",
        "  return divisores"
      ],
      "metadata": {
        "id": "0tPQsnwy0xVZ"
      },
      "execution_count": null,
      "outputs": []
    },
    {
      "cell_type": "code",
      "source": [
        "divisores = Divisores_de(12)\n",
        "print(divisores) #---> [1,2,3,4,6,12]\n",
        "\n",
        "divisores = Divisores_de(15)\n",
        "print(divisores) #---> [1,3,5,15]\n",
        "\n",
        "divisores = Divisores_de(100)\n",
        "print(divisores) #--->"
      ],
      "metadata": {
        "colab": {
          "base_uri": "https://localhost:8080/"
        },
        "id": "l8bel26v0xfJ",
        "outputId": "88939178-ed54-4074-f885-250f4daaae56"
      },
      "execution_count": null,
      "outputs": [
        {
          "output_type": "stream",
          "name": "stdout",
          "text": [
            "[1, 2, 3, 4, 6, 12]\n",
            "[1, 3, 5, 15]\n",
            "[1, 2, 4, 5, 10, 20, 25, 50, 100]\n"
          ]
        }
      ]
    },
    {
      "cell_type": "markdown",
      "source": [
        "9. Crea una función que indique si un número es primo o no"
      ],
      "metadata": {
        "id": "3Vg6odAv25Da"
      }
    },
    {
      "cell_type": "code",
      "source": [
        "Divisores_de(7)"
      ],
      "metadata": {
        "colab": {
          "base_uri": "https://localhost:8080/"
        },
        "id": "sNaQHuph27T6",
        "outputId": "2db74ec0-f6d7-49a4-f619-62ba0c244976"
      },
      "execution_count": null,
      "outputs": [
        {
          "output_type": "execute_result",
          "data": {
            "text/plain": [
              "[1, 7]"
            ]
          },
          "metadata": {},
          "execution_count": 71
        }
      ]
    },
    {
      "cell_type": "code",
      "source": [],
      "metadata": {
        "id": "MDWEJoPS27gi"
      },
      "execution_count": null,
      "outputs": []
    },
    {
      "cell_type": "markdown",
      "source": [
        "10. Crea una función que nos imprima una lista con los n primeros números primos"
      ],
      "metadata": {
        "id": "vWQIMb5p3TMr"
      }
    },
    {
      "cell_type": "code",
      "source": [],
      "metadata": {
        "id": "IXJphVU33Uxa"
      },
      "execution_count": null,
      "outputs": []
    },
    {
      "cell_type": "code",
      "source": [],
      "metadata": {
        "id": "NZbFfKzT3U_t"
      },
      "execution_count": null,
      "outputs": []
    }
  ]
}