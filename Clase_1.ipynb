{
  "nbformat": 4,
  "nbformat_minor": 0,
  "metadata": {
    "colab": {
      "provenance": [],
      "include_colab_link": true
    },
    "kernelspec": {
      "name": "python3",
      "display_name": "Python 3"
    },
    "language_info": {
      "name": "python"
    }
  },
  "cells": [
    {
      "cell_type": "markdown",
      "metadata": {
        "id": "view-in-github",
        "colab_type": "text"
      },
      "source": [
        "<a href=\"https://colab.research.google.com/github/malbatahan100/curso1/blob/main/Clase_1.ipynb\" target=\"_parent\"><img src=\"https://colab.research.google.com/assets/colab-badge.svg\" alt=\"Open In Colab\"/></a>"
      ]
    },
    {
      "cell_type": "markdown",
      "source": [
        "# Clase 1"
      ],
      "metadata": {
        "id": "VFnqjVUpT-Mc"
      }
    },
    {
      "cell_type": "markdown",
      "source": [
        "Enteros (int)"
      ],
      "metadata": {
        "id": "pCmYY0FYWiyf"
      }
    },
    {
      "cell_type": "code",
      "execution_count": null,
      "metadata": {
        "colab": {
          "base_uri": "https://localhost:8080/"
        },
        "id": "vJCAv5wuTmCx",
        "outputId": "6fb7e23e-9f91-4ed1-830a-760bd5532325"
      },
      "outputs": [
        {
          "output_type": "stream",
          "name": "stdout",
          "text": [
            "5\n",
            "4\n",
            "30\n",
            "3.33\n",
            "9\n",
            "2.0\n"
          ]
        }
      ],
      "source": [
        "print(2+3)\n",
        "print(9-5)\n",
        "print(5*6)\n",
        "print(round(10/3,2))\n",
        "print(3**2)\n",
        "print(4**0.5)"
      ]
    },
    {
      "cell_type": "markdown",
      "source": [
        "Flotantes (float)"
      ],
      "metadata": {
        "id": "s9u4sc1PX7zw"
      }
    },
    {
      "cell_type": "code",
      "source": [
        "print(2.5+3.4)\n",
        "print(round(9.6-5.2,2))\n",
        "print(5.2*6.3)\n",
        "print(round(10/3,2))\n",
        "print(3//2)\n",
        "print(10 % 4)"
      ],
      "metadata": {
        "colab": {
          "base_uri": "https://localhost:8080/"
        },
        "id": "KCw3Q_yUT8YZ",
        "outputId": "31fee082-bb69-4861-9d59-f4529b042b53"
      },
      "execution_count": null,
      "outputs": [
        {
          "output_type": "stream",
          "name": "stdout",
          "text": [
            "5.9\n",
            "4.4\n",
            "32.76\n",
            "3.33\n",
            "1\n",
            "2\n"
          ]
        }
      ]
    },
    {
      "cell_type": "markdown",
      "source": [
        "Cadenas de texto (str)"
      ],
      "metadata": {
        "id": "OEq8r3JOYhRq"
      }
    },
    {
      "cell_type": "code",
      "source": [
        "print(\"Hola\" + \" \" + \"Mundo\")"
      ],
      "metadata": {
        "colab": {
          "base_uri": "https://localhost:8080/"
        },
        "id": "dwUT6r54Yjr2",
        "outputId": "232c8af4-36f8-45e9-e88b-82d9de86fa82"
      },
      "execution_count": null,
      "outputs": [
        {
          "output_type": "stream",
          "name": "stdout",
          "text": [
            "Hola Mundo\n"
          ]
        }
      ]
    },
    {
      "cell_type": "code",
      "source": [
        "print(\"Hola \"*3)"
      ],
      "metadata": {
        "colab": {
          "base_uri": "https://localhost:8080/"
        },
        "id": "n64doxjvZYxQ",
        "outputId": "39acc946-cbb0-4eee-adac-44990a7655c5"
      },
      "execution_count": null,
      "outputs": [
        {
          "output_type": "stream",
          "name": "stdout",
          "text": [
            "Hola Hola Hola \n"
          ]
        }
      ]
    },
    {
      "cell_type": "code",
      "source": [
        "print(\"Hola \" + str(3.2))"
      ],
      "metadata": {
        "colab": {
          "base_uri": "https://localhost:8080/"
        },
        "id": "9n_QMvqxZlbK",
        "outputId": "b3faad83-5e45-4610-ca28-a725f401c832"
      },
      "execution_count": null,
      "outputs": [
        {
          "output_type": "stream",
          "name": "stdout",
          "text": [
            "Hola 3.2\n"
          ]
        }
      ]
    },
    {
      "cell_type": "code",
      "source": [
        "print(5 + int(\"5\"))\n",
        "print(5 + float(\"5\"))"
      ],
      "metadata": {
        "colab": {
          "base_uri": "https://localhost:8080/"
        },
        "id": "cYmy7vOUaPwP",
        "outputId": "2c7c2ad0-02c4-496d-f469-370c46077256"
      },
      "execution_count": null,
      "outputs": [
        {
          "output_type": "stream",
          "name": "stdout",
          "text": [
            "10\n",
            "10.0\n"
          ]
        }
      ]
    },
    {
      "cell_type": "code",
      "source": [
        "print(\"Hola\",4)"
      ],
      "metadata": {
        "colab": {
          "base_uri": "https://localhost:8080/"
        },
        "id": "-itFTWuObEIp",
        "outputId": "0c4599e8-e1ed-44a4-ac68-fb10b1a997a5"
      },
      "execution_count": null,
      "outputs": [
        {
          "output_type": "stream",
          "name": "stdout",
          "text": [
            "Hola 4\n"
          ]
        }
      ]
    },
    {
      "cell_type": "markdown",
      "source": [
        "Variables"
      ],
      "metadata": {
        "id": "xp5gNNYObxW2"
      }
    },
    {
      "cell_type": "code",
      "source": [
        "mensaje = \"Hola\"\n",
        "numero = 3\n",
        "\n",
        "print(mensaje, numero)"
      ],
      "metadata": {
        "colab": {
          "base_uri": "https://localhost:8080/"
        },
        "id": "fx0JBfnibyri",
        "outputId": "22583c9c-c078-475e-a43e-4fdd710540dd"
      },
      "execution_count": null,
      "outputs": [
        {
          "output_type": "stream",
          "name": "stdout",
          "text": [
            "Hola 3\n"
          ]
        }
      ]
    },
    {
      "cell_type": "code",
      "source": [
        "num1 = 8\n",
        "num2 = 2\n",
        "print(\"La suma de los números es:\",num1+num2)\n",
        "print(\"La resta de los números es:\",num1-num2)\n",
        "print(\"La multiplicación de los números es:\",num1*num2)\n",
        "print(\"La división de los números es:\",num1/num2)"
      ],
      "metadata": {
        "colab": {
          "base_uri": "https://localhost:8080/"
        },
        "id": "ImwQ0G0xctGo",
        "outputId": "c48a1067-d123-4556-d753-89316bbc4e5a"
      },
      "execution_count": null,
      "outputs": [
        {
          "output_type": "stream",
          "name": "stdout",
          "text": [
            "La suma de los números es: 10\n",
            "La resta de los números es: 6\n",
            "La multiplicación de los números es: 16\n",
            "La división de los números es: 4.0\n"
          ]
        }
      ]
    },
    {
      "cell_type": "markdown",
      "source": [
        "# Ejercicios"
      ],
      "metadata": {
        "id": "vdZEpBwgUeJN"
      }
    },
    {
      "cell_type": "markdown",
      "source": [
        "1. Pide al usuario ingresar 2 cadenas de texto e imprime su concatenación"
      ],
      "metadata": {
        "id": "yYBJkgCXebcn"
      }
    },
    {
      "cell_type": "code",
      "source": [
        "palabra1 = input(\"Ingrese un texto: \")\n",
        "palabra2 = input(\"Ingrese otro texto: \")\n",
        "\n",
        "print(palabra1, palabra2)"
      ],
      "metadata": {
        "colab": {
          "base_uri": "https://localhost:8080/"
        },
        "id": "0ZrvLxusUfs6",
        "outputId": "25fa0a16-a958-40be-a0eb-e03ca7acbf5a"
      },
      "execution_count": null,
      "outputs": [
        {
          "output_type": "stream",
          "name": "stdout",
          "text": [
            "Ingrese un texto: Aprendiendo\n",
            "Ingrese otro texto: Python\n",
            "Aprendiendo Python\n"
          ]
        }
      ]
    },
    {
      "cell_type": "code",
      "source": [
        "nombre = input(\"Ingrese su nombre: \")\n",
        "print(\"¡Hola\",nombre,\"! Bienvenido a tu curso de Python\")"
      ],
      "metadata": {
        "colab": {
          "base_uri": "https://localhost:8080/"
        },
        "id": "QB4eCE_Gffeg",
        "outputId": "14adb413-73ca-4f41-c4ce-9f465895da30"
      },
      "execution_count": null,
      "outputs": [
        {
          "output_type": "stream",
          "name": "stdout",
          "text": [
            "Ingrese su nombre: Alejandro\n",
            "¡Hola Alejandro ! Bienvenido a tu curso de Python\n"
          ]
        }
      ]
    },
    {
      "cell_type": "markdown",
      "source": [
        "2. Pide al usuario ingresar 2 números e imprime la suma, resta, multiplicación y división."
      ],
      "metadata": {
        "id": "ZvKlb-KFgSon"
      }
    },
    {
      "cell_type": "code",
      "source": [
        "num1= int(input(\"ingrese el primer numero: \"))\n",
        "num2= int(input(\"ingrese el sengundo numero: \"))\n",
        "\n",
        "print(\"la suma de los numeros es:\", num1+num2)\n",
        "print(\"la RESTA de los numeros es:\", num1-num2)\n",
        "print(\"la multiplicación de los numeros es:\", num1*num2)\n",
        "print(\"la division de los numeros es:\", round(num1/num2,3))"
      ],
      "metadata": {
        "colab": {
          "base_uri": "https://localhost:8080/"
        },
        "id": "yHlMTOR0gVLC",
        "outputId": "fbad88de-2f58-4b01-d47a-02d02bf4cea1"
      },
      "execution_count": null,
      "outputs": [
        {
          "output_type": "stream",
          "name": "stdout",
          "text": [
            "ingrese el primer numero: 5\n",
            "ingrese el sengundo numero: 6\n",
            "la suma de los numeros es: 11\n",
            "la RESTA de los numeros es: -1\n",
            "la multiplicación de los numeros es: 30\n",
            "la division de los numeros es: 0.833\n"
          ]
        }
      ]
    },
    {
      "cell_type": "markdown",
      "source": [
        "3. Pide al usuario ingresar una cadena de texto e imprime lo siguiente:\n",
        "- La cantidad de caracteres\n",
        "- Todo el texto en mayúsculas\n",
        "- Todo el texto en minúsculas\n",
        "- Su primer carácter\n",
        "- Su último carácter"
      ],
      "metadata": {
        "id": "SXpPqJ68i1xZ"
      }
    },
    {
      "cell_type": "code",
      "source": [
        "texto = input(\"Ingrese un texto: \")\n",
        "print()\n",
        "print(\"El texto tiene\", len(texto), \"caracteres\")\n",
        "print(\"El texto en mayúsculas es:\",texto.upper())\n",
        "print(\"El texto en minúsculas es:\",texto.lower())\n",
        "print(\"El primer caracter es:\",texto[0])\n",
        "print(\"El último caracter es:\",texto[-1])\n",
        "\n",
        "indice_central = int((len(texto)+1)/2)\n",
        "print(\"El caracter del centro es:\", texto[indice_central-1] )"
      ],
      "metadata": {
        "colab": {
          "base_uri": "https://localhost:8080/"
        },
        "id": "WRdRdQr0i8xB",
        "outputId": "b365c99b-3e9c-465a-aabf-3527487e672b"
      },
      "execution_count": null,
      "outputs": [
        {
          "output_type": "stream",
          "name": "stdout",
          "text": [
            "Ingrese un texto: Impar\n",
            "\n",
            "El texto tiene 5 caracteres\n",
            "El texto en mayúsculas es: IMPAR\n",
            "El texto en minúsculas es: impar\n",
            "El primer caracter es: I\n",
            "El último caracter es: r\n",
            "El caracter del centro es: p\n"
          ]
        }
      ]
    },
    {
      "cell_type": "markdown",
      "source": [
        "4. Pide al usuario ingresar la base y la altura de un triángulo y luego imprime un mensaje indicando su área."
      ],
      "metadata": {
        "id": "6cahVFfemFh8"
      }
    },
    {
      "cell_type": "code",
      "source": [
        "base = float(input(\"Ingrese la base: \"))\n",
        "altura = float(input(\"Ingrese la altura: \"))\n",
        "\n",
        "area = round(base*altura/2,2)\n",
        "\n",
        "print(\"El área del triángulo es\",area)"
      ],
      "metadata": {
        "colab": {
          "base_uri": "https://localhost:8080/"
        },
        "id": "OW0aZE8VmGMa",
        "outputId": "e971d1d8-0103-4907-e2e4-036d63e252b4"
      },
      "execution_count": null,
      "outputs": [
        {
          "output_type": "stream",
          "name": "stdout",
          "text": [
            "Ingrese la base: 6\n",
            "Ingrese la altura: 8\n",
            "El área del triángulo es 24.0\n"
          ]
        }
      ]
    },
    {
      "cell_type": "markdown",
      "source": [
        "5. Pide al usuario ingresar el radio de un círculo y luego imprime un mensaje indicando su área y otro mensaje\n",
        "indicando su perímetro."
      ],
      "metadata": {
        "id": "uAB09TFioYBf"
      }
    },
    {
      "cell_type": "code",
      "source": [
        "from math import pi\n",
        "\n",
        "radio = float(input(\"Ingrese el radio del círculo (m): \"))\n",
        "\n",
        "area = round(pi*radio**2,2)\n",
        "perimetro = round(2*pi*radio,2)\n",
        "\n",
        "print(\"El área del círculo es:\",area,\"m2\")\n",
        "print(\"El perímetro del círculo es:\",perimetro,\"m\")"
      ],
      "metadata": {
        "colab": {
          "base_uri": "https://localhost:8080/"
        },
        "id": "E8tTdEPqoacB",
        "outputId": "3dabf27a-94ce-4420-b2a0-e54ed62c8f5a"
      },
      "execution_count": null,
      "outputs": [
        {
          "output_type": "stream",
          "name": "stdout",
          "text": [
            "Ingrese el radio del círculo (m): 5\n",
            "El área del círculo es: 78.54 m2\n",
            "El perímetro del círculo es: 31.42 m\n"
          ]
        }
      ]
    }
  ]
}