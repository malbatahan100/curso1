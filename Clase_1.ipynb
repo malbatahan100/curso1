{
  "nbformat": 4,
  "nbformat_minor": 0,
  "metadata": {
    "colab": {
      "provenance": [],
      "include_colab_link": true
    },
    "kernelspec": {
      "name": "python3",
      "display_name": "Python 3"
    },
    "language_info": {
      "name": "python"
    }
  },
  "cells": [
    {
      "cell_type": "markdown",
      "metadata": {
        "id": "view-in-github",
        "colab_type": "text"
      },
      "source": [
        "<a href=\"https://colab.research.google.com/github/malbatahan100/curso1/blob/main/Clase_1.ipynb\" target=\"_parent\"><img src=\"https://colab.research.google.com/assets/colab-badge.svg\" alt=\"Open In Colab\"/></a>"
      ]
    },
    {
      "cell_type": "markdown",
      "source": [
        "Strings"
      ],
      "metadata": {
        "id": "CAszMz5WORGO"
      }
    },
    {
      "cell_type": "markdown",
      "source": [
        "# CLASE 1"
      ],
      "metadata": {
        "id": "3BNV3c72LGp5"
      }
    },
    {
      "cell_type": "code",
      "source": [
        "print(\"Hola \" *3)\n"
      ],
      "metadata": {
        "colab": {
          "base_uri": "https://localhost:8080/"
        },
        "id": "TfUafL2zLFzf",
        "outputId": "1972f783-e3bd-4ef8-a3e2-c0734104e82d"
      },
      "execution_count": null,
      "outputs": [
        {
          "output_type": "stream",
          "name": "stdout",
          "text": [
            "Hola Hola Hola \n"
          ]
        }
      ]
    },
    {
      "cell_type": "markdown",
      "source": [
        "Integers"
      ],
      "metadata": {
        "id": "RdPlHN_MOTpZ"
      }
    },
    {
      "cell_type": "code",
      "source": [
        "28 / 2"
      ],
      "metadata": {
        "colab": {
          "base_uri": "https://localhost:8080/"
        },
        "id": "VdS_sETVOShv",
        "outputId": "fca557b6-31d3-4b43-8f8d-64cd2d19dd61"
      },
      "execution_count": null,
      "outputs": [
        {
          "output_type": "execute_result",
          "data": {
            "text/plain": [
              "14.0"
            ]
          },
          "metadata": {},
          "execution_count": 28
        }
      ]
    },
    {
      "cell_type": "code",
      "source": [
        "print((\"3\" + \"2\")*5)\n",
        "print((3 + 2)*5)"
      ],
      "metadata": {
        "colab": {
          "base_uri": "https://localhost:8080/"
        },
        "id": "8Kbh4MinQA-V",
        "outputId": "69ab4c76-55bd-4239-d135-4086bb0adbbc"
      },
      "execution_count": null,
      "outputs": [
        {
          "output_type": "stream",
          "name": "stdout",
          "text": [
            "3232323232\n",
            "25\n"
          ]
        }
      ]
    },
    {
      "cell_type": "markdown",
      "source": [
        "Floats"
      ],
      "metadata": {
        "id": "wF8moOKoPpt-"
      }
    },
    {
      "cell_type": "code",
      "source": [
        "print(2.3 * 8.5)"
      ],
      "metadata": {
        "colab": {
          "base_uri": "https://localhost:8080/"
        },
        "id": "Z4CUjfz2Pqre",
        "outputId": "12250505-298f-473b-ef5e-8839f07ce84a"
      },
      "execution_count": null,
      "outputs": [
        {
          "output_type": "stream",
          "name": "stdout",
          "text": [
            "19.549999999999997\n"
          ]
        }
      ]
    },
    {
      "cell_type": "markdown",
      "source": [
        "Variables"
      ],
      "metadata": {
        "id": "gPeg0fA6R4d8"
      }
    },
    {
      "cell_type": "code",
      "source": [
        "mensaje = \"Hola\"\n",
        "mensaje = mensaje + \" Mundo\"\n",
        "\n",
        "print(mensaje)"
      ],
      "metadata": {
        "colab": {
          "base_uri": "https://localhost:8080/"
        },
        "id": "JXE15yTJR6Jv",
        "outputId": "b34999ea-2d80-4768-cfed-f11d03ae9990"
      },
      "execution_count": null,
      "outputs": [
        {
          "output_type": "stream",
          "name": "stdout",
          "text": [
            "Hola Mundo\n"
          ]
        }
      ]
    },
    {
      "cell_type": "code",
      "source": [
        "numero = 3\n",
        "numero = numero + 1\n",
        "print(numero)"
      ],
      "metadata": {
        "colab": {
          "base_uri": "https://localhost:8080/"
        },
        "id": "B7uyez2oTQpJ",
        "outputId": "a0d8ce85-1375-46de-a7da-735d3427b5a8"
      },
      "execution_count": null,
      "outputs": [
        {
          "output_type": "stream",
          "name": "stdout",
          "text": [
            "4\n"
          ]
        }
      ]
    },
    {
      "cell_type": "code",
      "source": [
        "primer_numero = 6\n",
        "segundo_numero = 3\n",
        "suma = primer_numero + segundo_numero\n",
        "print(\"La suma de los números es\", suma)"
      ],
      "metadata": {
        "colab": {
          "base_uri": "https://localhost:8080/"
        },
        "id": "E4SX7byKTl6-",
        "outputId": "11f03c56-8a5e-49c0-dc46-c9417c63bd05"
      },
      "execution_count": null,
      "outputs": [
        {
          "output_type": "stream",
          "name": "stdout",
          "text": [
            "La suma de los números es 9\n"
          ]
        }
      ]
    },
    {
      "cell_type": "code",
      "source": [
        "int(\"4\")"
      ],
      "metadata": {
        "colab": {
          "base_uri": "https://localhost:8080/"
        },
        "id": "9SOVjqgGWNCV",
        "outputId": "1c060b7f-031c-4450-eb8c-38fcae6157ad"
      },
      "execution_count": null,
      "outputs": [
        {
          "output_type": "execute_result",
          "data": {
            "text/plain": [
              "4"
            ]
          },
          "metadata": {},
          "execution_count": 67
        }
      ]
    },
    {
      "cell_type": "code",
      "source": [
        "float(\"5\")"
      ],
      "metadata": {
        "colab": {
          "base_uri": "https://localhost:8080/"
        },
        "id": "DoxXUx94Whrb",
        "outputId": "3f4bd883-9dea-4e2a-f96c-decc14be2ec3"
      },
      "execution_count": null,
      "outputs": [
        {
          "output_type": "execute_result",
          "data": {
            "text/plain": [
              "5.0"
            ]
          },
          "metadata": {},
          "execution_count": 69
        }
      ]
    },
    {
      "cell_type": "markdown",
      "source": [
        "Inputs"
      ],
      "metadata": {
        "id": "XIyry16WWrDZ"
      }
    },
    {
      "cell_type": "code",
      "source": [
        "nombre = input(\"Ingrese su nombre: \")\n",
        "\n",
        "print(\"Hola\", nombre)\n",
        "\n",
        "edad = input(\"¿Cuál es tu edad?: \")\n",
        "\n",
        "print(\"Tu edad es\", edad)"
      ],
      "metadata": {
        "colab": {
          "base_uri": "https://localhost:8080/"
        },
        "id": "-mM8AuS-XBIs",
        "outputId": "dc0c34d6-b7d1-4b7c-9d51-e3573f299c12"
      },
      "execution_count": null,
      "outputs": [
        {
          "output_type": "stream",
          "name": "stdout",
          "text": [
            "Ingrese su nombre: Jorge\n",
            "Hola Jorge\n",
            "¿Cuál es tu edad?: 25\n",
            "Tu edad es 25\n"
          ]
        }
      ]
    },
    {
      "cell_type": "code",
      "source": [
        "numero = int(input(\"Ingrese un número: \"))\n",
        "print(5/numero)"
      ],
      "metadata": {
        "colab": {
          "base_uri": "https://localhost:8080/"
        },
        "id": "ylpb2S3DYkoE",
        "outputId": "b0349268-a4cd-403b-fc9a-0f61aeb35f7a"
      },
      "execution_count": null,
      "outputs": [
        {
          "output_type": "stream",
          "name": "stdout",
          "text": [
            "Ingrese un número: 5\n",
            "1.0\n"
          ]
        }
      ]
    },
    {
      "cell_type": "markdown",
      "source": [
        "# Ejercicios"
      ],
      "metadata": {
        "id": "uW6rmWyYZNn5"
      }
    },
    {
      "cell_type": "markdown",
      "source": [
        "1. Pide al usuario ingresar 2 cadenas de texto e imprime su concatenación"
      ],
      "metadata": {
        "id": "UiNKIhGmZQi2"
      }
    },
    {
      "cell_type": "code",
      "source": [
        "mensaje_1 = input(\"Ingrese un mensaje: \")\n",
        "mensaje_2 = input(\"Ingrese otro mensaje: \")\n",
        "concatenacion = mensaje_1 + \" \" + mensaje_2\n",
        "print(\"La concatenación de ambos mensajes es: \", concatenacion)"
      ],
      "metadata": {
        "colab": {
          "base_uri": "https://localhost:8080/"
        },
        "id": "zvPpsy0JZTRl",
        "outputId": "64e28310-3a09-4885-bd6b-bb9e9b3067ad"
      },
      "execution_count": null,
      "outputs": [
        {
          "output_type": "stream",
          "name": "stdout",
          "text": [
            "Ingrese un mensaje: Feliz\n",
            "Ingrese otro mensaje: Cumpleaños\n",
            "La concatenación de ambos mensajes es:  Feliz Cumpleaños\n"
          ]
        }
      ]
    },
    {
      "cell_type": "markdown",
      "source": [
        "2. Pide al usuario ingresar 2 números e imprime la suma, resta, multiplicación y división."
      ],
      "metadata": {
        "id": "3335aWifaaqd"
      }
    },
    {
      "cell_type": "code",
      "source": [
        "num1 = int(input(\"Ingrese el primer número: \"))\n",
        "num2 = int(input(\"Ingrese el segundo número: \"))\n",
        "\n",
        "print()\n",
        "print(\"La suma es:\", num1 + num2 )\n",
        "print(\"La resta es:\", num1 - num2 )\n",
        "print(\"El producto es:\", num1 * num2 )\n",
        "print(\"La división es:\", round(num1 / num2, 3) )"
      ],
      "metadata": {
        "colab": {
          "base_uri": "https://localhost:8080/"
        },
        "id": "hY2sjzQJabsA",
        "outputId": "767f5357-fbb3-4d69-dd98-85e84f8cbe57"
      },
      "execution_count": null,
      "outputs": [
        {
          "output_type": "stream",
          "name": "stdout",
          "text": [
            "Ingrese el primer número: 6\n",
            "Ingrese el segundo número: 9\n",
            "\n",
            "La suma es: 15\n",
            "La resta es: -3\n",
            "El producto es: 54\n",
            "La división es: 0.667\n"
          ]
        }
      ]
    },
    {
      "cell_type": "markdown",
      "source": [
        "3. Pide al usuario ingresar una cadena de texto e imprime lo siguiente:\n",
        "- La cantidad de caracteres\n",
        "- Todo el texto en mayúsculas\n",
        "- Todo el texto en minúsculas\n",
        "- Su primer carácter\n",
        "- Su último carácter"
      ],
      "metadata": {
        "id": "JO4Kv6odcnXb"
      }
    },
    {
      "cell_type": "code",
      "source": [
        "mensaje = input(\"Ingrese un mensaje: \")\n",
        "print()\n",
        "print(\"La cantidad de caracteres es:\", len(mensaje))\n",
        "print(\"El mensaje en mayúsculas es:\", mensaje.upper())\n",
        "print(\"El mensaje en minúsculas es:\", mensaje.lower())\n",
        "print(\"El mensaje en tipo oración:\", mensaje.capitalize())\n",
        "print(\"El primer caracter es:\", mensaje[0])\n",
        "print(\"El último caracter es:\", mensaje[-1])"
      ],
      "metadata": {
        "colab": {
          "base_uri": "https://localhost:8080/"
        },
        "id": "tdIAGNhvcqD7",
        "outputId": "8ee2ad7f-b559-4cff-8a8b-9d52bd95e511"
      },
      "execution_count": null,
      "outputs": [
        {
          "output_type": "stream",
          "name": "stdout",
          "text": [
            "Ingrese un mensaje: Python\n",
            "\n",
            "La cantidad de caracteres es: 6\n",
            "El mensaje en mayúsculas es: PYTHON\n",
            "El mensaje en minúsculas es: python\n",
            "El mensaje en tipo oración: Python\n",
            "El primer caracter es: P\n",
            "El último caracter es: n\n"
          ]
        }
      ]
    },
    {
      "cell_type": "markdown",
      "source": [
        "4. Pide al usuario ingresar la base y la altura de un triángulo y luego imprime un mensaje indicando su área."
      ],
      "metadata": {
        "id": "nQjW8XMdf5sO"
      }
    },
    {
      "cell_type": "code",
      "source": [
        "base = float(input(\"Ingrese la base: \"))\n",
        "altura = float(input(\"Ingrese la altura: \"))\n",
        "area = base*altura/2\n",
        "print(\"El área del triángulo es:\", area)"
      ],
      "metadata": {
        "id": "90i0QO3Uf8Sq",
        "colab": {
          "base_uri": "https://localhost:8080/"
        },
        "outputId": "1cf928de-51c9-48bd-abd2-7c90a726e9e3"
      },
      "execution_count": null,
      "outputs": [
        {
          "output_type": "stream",
          "name": "stdout",
          "text": [
            "Ingrese la base: 5\n",
            "Ingrese la altura: 10\n",
            "El área del triángulo es: 25.0\n"
          ]
        }
      ]
    },
    {
      "cell_type": "markdown",
      "source": [
        "5. Pide al usuario ingresar el radio de un círculo y luego imprime un mensaje indicando su área y otro mensaje\n",
        "indicando su perímetro."
      ],
      "metadata": {
        "id": "IEDcd2mggGau"
      }
    },
    {
      "cell_type": "code",
      "source": [
        "from math import pi\n",
        "\n",
        "radio = float(input(\"Ingrese el radio (m): \"))\n",
        "area = round(pi * radio ** 2, 2)\n",
        "perimetro = round(2 * pi * radio, 2)\n",
        "\n",
        "print(\"El área del círculo es:\", area, \"m2\")\n",
        "print(\"El perímetro del círculo es:\", perimetro, \"m\")"
      ],
      "metadata": {
        "id": "FqpMf_FUgIZK",
        "colab": {
          "base_uri": "https://localhost:8080/"
        },
        "outputId": "8ec6870d-bbea-4bb6-87ea-933d6f7dd138"
      },
      "execution_count": null,
      "outputs": [
        {
          "output_type": "stream",
          "name": "stdout",
          "text": [
            "Ingrese el radio (m): 5\n",
            "El área del círculo es: 78.54 m2\n",
            "El perímetro del círculo es: 31.42 m\n"
          ]
        }
      ]
    }
  ]
}