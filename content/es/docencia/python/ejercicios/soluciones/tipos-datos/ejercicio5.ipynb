{
  "cells": [
    {
      "cell_type": "markdown",
      "metadata": {
        "id": "o-SuUDLDxrWP"
      },
      "source": [
        "## Ejercicio\n",
        "\n",
        "Escribe un programa que pregunte al usuario por el número de horas trabajadas y el coste por hora. Después debe mostrar por pantalla la paga que le corresponde."
      ]
    },
    {
      "cell_type": "markdown",
      "metadata": {
        "id": "GBgEZnVqxrWk"
      },
      "source": [
        "## Solución"
      ]
    },
    {
      "cell_type": "code",
      "execution_count": 9,
      "metadata": {
        "colab": {
          "base_uri": "https://localhost:8080/"
        },
        "id": "xfCsUE6uxrWr",
        "outputId": "43581fbb-866d-4944-f4bc-e0b880e0c8d3"
      },
      "outputs": [
        {
          "output_type": "stream",
          "name": "stdout",
          "text": [
            "peru     34\n",
            "arge    215\n",
            "gg       46\n",
            "rr       50\n",
            "Name: paises, dtype: int64\n",
            "\n",
            "46\n",
            "46\n",
            "34\n",
            "[ 34 215  46  50]\n",
            "Index(['peru', 'arge', 'gg', 'rr'], dtype='object')\n",
            "4\n",
            "paises\n"
          ]
        }
      ],
      "source": [
        "import pandas as pd\n",
        "\n",
        "serie=pd.Series(data=[34,215,46,50], index=[\"peru\",\"arge\",\"gg\",\"rr\"],name=\"paises\")\n",
        "print(serie)\n",
        "print()\n",
        "print(serie[2])\n",
        "print(serie.iloc[2])\n",
        "print(serie[\"peru\"])\n",
        "print(serie.values)\n",
        "print(serie.index)\n",
        "print(serie.size)\n",
        "print(serie.name)\n",
        "\n"
      ]
    },
    {
      "cell_type": "code",
      "source": [
        "serie[\"ecuador\"]=25"
      ],
      "metadata": {
        "id": "qvKgDPDT3w2P"
      },
      "execution_count": 12,
      "outputs": []
    },
    {
      "cell_type": "code",
      "source": [],
      "metadata": {
        "id": "0y2QZQg130Im"
      },
      "execution_count": null,
      "outputs": []
    },
    {
      "cell_type": "code",
      "source": [
        "print(serie)\n",
        "print()\n",
        "print(\"la suma es\",serie.sum())\n",
        "print(\"la suma es\",serie.mean())"
      ],
      "metadata": {
        "colab": {
          "base_uri": "https://localhost:8080/"
        },
        "id": "EkQ4xMm-3VpC",
        "outputId": "8a531946-52ae-4f7c-ecf2-d30cbe896590"
      },
      "execution_count": 11,
      "outputs": [
        {
          "output_type": "stream",
          "name": "stdout",
          "text": [
            "peru        34\n",
            "arge       215\n",
            "gg          46\n",
            "rr          50\n",
            "ecuador     25\n",
            "Name: paises, dtype: int64\n",
            "\n",
            "la suma es 370\n",
            "la suma es 74.0\n"
          ]
        }
      ]
    },
    {
      "cell_type": "code",
      "source": [
        "## creacion de series\n",
        "diccionario={\"peru\":34,\"prusia\":444,\"abi\":50}\n",
        "serie=pd.Series(data=diccionario,index=[\"prusia\",\"abi\",\"peru\"],name=\"paises\")\n",
        "print(serie)\n",
        "print(serie.hasnans)"
      ],
      "metadata": {
        "colab": {
          "base_uri": "https://localhost:8080/"
        },
        "id": "CsDmC4Zx325P",
        "outputId": "0899818d-59fd-4346-ef36-16bfe1fc5615"
      },
      "execution_count": 16,
      "outputs": [
        {
          "output_type": "stream",
          "name": "stdout",
          "text": [
            "prusia    444\n",
            "abi        50\n",
            "peru       34\n",
            "Name: paises, dtype: int64\n",
            "False\n"
          ]
        }
      ]
    },
    {
      "cell_type": "code",
      "source": [
        "##filtrado de valores\n",
        "filtro=serie>50\n",
        "serie[filtro]"
      ],
      "metadata": {
        "colab": {
          "base_uri": "https://localhost:8080/"
        },
        "id": "R9OFb26E5fpW",
        "outputId": "a4989e6f-045b-4ccc-9431-ff2855f4d0ed"
      },
      "execution_count": 18,
      "outputs": [
        {
          "output_type": "execute_result",
          "data": {
            "text/plain": [
              "prusia    444\n",
              "Name: paises, dtype: int64"
            ]
          },
          "metadata": {},
          "execution_count": 18
        }
      ]
    },
    {
      "cell_type": "code",
      "source": [
        "filtro=serie.isna()\n",
        "serie[filtro]"
      ],
      "metadata": {
        "colab": {
          "base_uri": "https://localhost:8080/"
        },
        "id": "JTiIMjwP6fke",
        "outputId": "5a780eff-95f9-4479-b21e-591fb266c031"
      },
      "execution_count": 21,
      "outputs": [
        {
          "output_type": "execute_result",
          "data": {
            "text/plain": [
              "Series([], Name: paises, dtype: int64)"
            ]
          },
          "metadata": {},
          "execution_count": 21
        }
      ]
    },
    {
      "cell_type": "code",
      "source": [
        "filtro=(serie>40) & (serie <100)\n",
        "serie[filtro]"
      ],
      "metadata": {
        "colab": {
          "base_uri": "https://localhost:8080/"
        },
        "id": "l9h97tOe7FfL",
        "outputId": "4525ff56-75c3-4539-fb4f-9c75edcf64d0"
      },
      "execution_count": 24,
      "outputs": [
        {
          "output_type": "execute_result",
          "data": {
            "text/plain": [
              "abi    50\n",
              "Name: paises, dtype: int64"
            ]
          },
          "metadata": {},
          "execution_count": 24
        }
      ]
    },
    {
      "cell_type": "code",
      "source": [
        "serie.index.str.contains(\"a\")\n",
        "serie[filtro]"
      ],
      "metadata": {
        "colab": {
          "base_uri": "https://localhost:8080/"
        },
        "id": "neXhuBNX8JXK",
        "outputId": "46ddfa15-2cb5-4773-ec51-9281a5d20a1c"
      },
      "execution_count": 29,
      "outputs": [
        {
          "output_type": "execute_result",
          "data": {
            "text/plain": [
              "abi    50\n",
              "Name: paises, dtype: int64"
            ]
          },
          "metadata": {},
          "execution_count": 29
        }
      ]
    },
    {
      "cell_type": "code",
      "source": [],
      "metadata": {
        "id": "ndkSzVGN-62F"
      },
      "execution_count": null,
      "outputs": []
    },
    {
      "cell_type": "code",
      "source": [
        "print(serie.index)"
      ],
      "metadata": {
        "colab": {
          "base_uri": "https://localhost:8080/"
        },
        "id": "JMy8cHA-8mI-",
        "outputId": "1aefd808-54c4-4601-fc5c-35c4703c1901"
      },
      "execution_count": 28,
      "outputs": [
        {
          "output_type": "stream",
          "name": "stdout",
          "text": [
            "Index(['prusia', 'abi', 'peru'], dtype='object')\n"
          ]
        }
      ]
    },
    {
      "cell_type": "code",
      "source": [
        "filtro=(profesionales.index.str.contains(\"Ing\"))&(profesionales<45)\n",
        "profesionales[filtro]"
      ],
      "metadata": {
        "id": "HUX0IM6T-8Ov"
      },
      "execution_count": null,
      "outputs": []
    },
    {
      "cell_type": "code",
      "source": [],
      "metadata": {
        "id": "GsLyer77XK19"
      },
      "execution_count": null,
      "outputs": []
    }
  ],
  "metadata": {
    "kernelspec": {
      "display_name": "Python 3",
      "language": "python",
      "name": "python3"
    },
    "language_info": {
      "codemirror_mode": {
        "name": "ipython",
        "version": 3
      },
      "file_extension": ".py",
      "mimetype": "text/x-python",
      "name": "python",
      "nbconvert_exporter": "python",
      "pygments_lexer": "ipython3",
      "version": "3.9.1-final"
    },
    "colab": {
      "provenance": []
    }
  },
  "nbformat": 4,
  "nbformat_minor": 0
}