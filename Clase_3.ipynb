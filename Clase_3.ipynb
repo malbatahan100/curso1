{
  "nbformat": 4,
  "nbformat_minor": 0,
  "metadata": {
    "colab": {
      "provenance": [],
      "include_colab_link": true
    },
    "kernelspec": {
      "name": "python3",
      "display_name": "Python 3"
    },
    "language_info": {
      "name": "python"
    }
  },
  "cells": [
    {
      "cell_type": "markdown",
      "metadata": {
        "id": "view-in-github",
        "colab_type": "text"
      },
      "source": [
        "<a href=\"https://colab.research.google.com/github/malbatahan100/curso1/blob/main/Clase_3.ipynb\" target=\"_parent\"><img src=\"https://colab.research.google.com/assets/colab-badge.svg\" alt=\"Open In Colab\"/></a>"
      ]
    },
    {
      "cell_type": "markdown",
      "source": [
        "# Clase 3"
      ],
      "metadata": {
        "id": "yjKhBWFuUZGX"
      }
    },
    {
      "cell_type": "markdown",
      "source": [
        "# LISTAS"
      ],
      "metadata": {
        "id": "3OQTsaumUbWn"
      }
    },
    {
      "cell_type": "code",
      "execution_count": null,
      "metadata": {
        "colab": {
          "base_uri": "https://localhost:8080/"
        },
        "id": "NU8bkobJUUnQ",
        "outputId": "08eda227-513a-4ea5-c430-a92d9f16a8a1"
      },
      "outputs": [
        {
          "output_type": "stream",
          "name": "stdout",
          "text": [
            "tres\n"
          ]
        }
      ],
      "source": [
        "lista_de_enteros = [4, 6, 3, 8, 9, 10, \"tres\"]\n",
        "print(lista_de_enteros[-1])"
      ]
    },
    {
      "cell_type": "markdown",
      "source": [
        "append()"
      ],
      "metadata": {
        "id": "Z68-cPkZVF_T"
      }
    },
    {
      "cell_type": "code",
      "source": [
        "lista = [1,2,3,4]\n",
        "lista.append(5)\n",
        "lista.append(6)\n",
        "print(lista)"
      ],
      "metadata": {
        "colab": {
          "base_uri": "https://localhost:8080/"
        },
        "id": "QigOKoMbVHml",
        "outputId": "244b1c5e-2c0f-467f-f20b-090b00c2edc6"
      },
      "execution_count": null,
      "outputs": [
        {
          "output_type": "stream",
          "name": "stdout",
          "text": [
            "[1, 2, 3, 4, 5, 6]\n"
          ]
        }
      ]
    },
    {
      "cell_type": "markdown",
      "source": [
        "insert()"
      ],
      "metadata": {
        "id": "0pDy_ClXVfZu"
      }
    },
    {
      "cell_type": "code",
      "source": [
        "lista = [1,2,3,5,6,7]\n",
        "lista.insert(3,4)\n",
        "print(lista)"
      ],
      "metadata": {
        "colab": {
          "base_uri": "https://localhost:8080/"
        },
        "id": "AAKildvVVg57",
        "outputId": "8b147bf1-4d91-4c4f-e000-d3247f45021d"
      },
      "execution_count": null,
      "outputs": [
        {
          "output_type": "stream",
          "name": "stdout",
          "text": [
            "[1, 2, 3, 4, 5, 6, 7]\n"
          ]
        }
      ]
    },
    {
      "cell_type": "markdown",
      "source": [
        "remove()"
      ],
      "metadata": {
        "id": "Hxf2yiO4WCb9"
      }
    },
    {
      "cell_type": "code",
      "source": [
        "dias_de_semana = [\"Lunes\", \"Martes\", \"Miercoles\", \"Jueves\"]\n",
        "dias_de_semana.remove(\"Martes\")\n",
        "print(dias_de_semana)"
      ],
      "metadata": {
        "colab": {
          "base_uri": "https://localhost:8080/"
        },
        "id": "6EyWxbRJWD9V",
        "outputId": "9be4994d-4fd2-4a46-dd90-3d491b411fd4"
      },
      "execution_count": null,
      "outputs": [
        {
          "output_type": "stream",
          "name": "stdout",
          "text": [
            "['Lunes', 'Miercoles', 'Jueves']\n"
          ]
        }
      ]
    },
    {
      "cell_type": "markdown",
      "source": [
        "pop()"
      ],
      "metadata": {
        "id": "GberGjF9Wtfd"
      }
    },
    {
      "cell_type": "code",
      "source": [
        "dias_de_semana = [\"Lunes\", \"Martes\", \"Miercoles\", \"Jueves\"]\n",
        "dias_de_semana.pop()\n",
        "print(dias_de_semana)"
      ],
      "metadata": {
        "colab": {
          "base_uri": "https://localhost:8080/"
        },
        "id": "pVH0nYo4Wuuc",
        "outputId": "89c01d37-c02b-4ee9-e362-febf0a617bd5"
      },
      "execution_count": null,
      "outputs": [
        {
          "output_type": "stream",
          "name": "stdout",
          "text": [
            "['Lunes', 'Martes', 'Miercoles']\n"
          ]
        }
      ]
    },
    {
      "cell_type": "markdown",
      "source": [
        "str.split()"
      ],
      "metadata": {
        "id": "j9Iloy51XFdF"
      }
    },
    {
      "cell_type": "code",
      "source": [
        "numeros = \"1 2 3 4 5 6\"\n",
        "lista_de_numeros = numeros.split()\n",
        "print(lista_de_numeros)\n",
        "print(len(lista_de_numeros))"
      ],
      "metadata": {
        "colab": {
          "base_uri": "https://localhost:8080/"
        },
        "id": "9umfyGzVXFHp",
        "outputId": "7a66516a-2f1a-4408-8054-25e379aab97e"
      },
      "execution_count": null,
      "outputs": [
        {
          "output_type": "stream",
          "name": "stdout",
          "text": [
            "['1', '2', '3', '4', '5', '6']\n",
            "6\n"
          ]
        }
      ]
    },
    {
      "cell_type": "markdown",
      "source": [
        "sorted()"
      ],
      "metadata": {
        "id": "5pMAxwztYsm1"
      }
    },
    {
      "cell_type": "code",
      "source": [
        "numeros = [1,6,3,2,7,8,4]\n",
        "numeros_ordenados = sorted(numeros, reverse=False)\n",
        "\n",
        "print(numeros)\n",
        "print(numeros_ordenados)"
      ],
      "metadata": {
        "colab": {
          "base_uri": "https://localhost:8080/"
        },
        "id": "7Gfh-M3-Yuai",
        "outputId": "20bfe7df-9318-496c-d6b7-a6df9ccaef0b"
      },
      "execution_count": null,
      "outputs": [
        {
          "output_type": "stream",
          "name": "stdout",
          "text": [
            "[1, 6, 3, 2, 7, 8, 4]\n",
            "[1, 2, 3, 4, 6, 7, 8]\n"
          ]
        }
      ]
    },
    {
      "cell_type": "markdown",
      "source": [
        "1. Pide al usuario que ingrese tres frutas y agrégalas a una por una a una lista"
      ],
      "metadata": {
        "id": "-WksFeDbZZ6b"
      }
    },
    {
      "cell_type": "code",
      "source": [
        "frutas = []\n",
        "fruta = input(\"Ingrese la primera fruta: \")\n",
        "frutas.append(fruta)\n",
        "fruta = input(\"Ingrese la segunda fruta: \")\n",
        "frutas.append(fruta)\n",
        "fruta = input(\"Ingrese la tercera fruta: \")\n",
        "frutas.append(fruta)\n",
        "\n",
        "print(sorted(frutas))"
      ],
      "metadata": {
        "colab": {
          "base_uri": "https://localhost:8080/"
        },
        "id": "bqyI6TlGZZrs",
        "outputId": "27c7784d-dab1-406a-f1f3-5fba4d11569f"
      },
      "execution_count": null,
      "outputs": [
        {
          "output_type": "stream",
          "name": "stdout",
          "text": [
            "Ingrese la primera fruta: manzana\n",
            "Ingrese la segunda fruta: pera\n",
            "Ingrese la tercera fruta: durazno\n",
            "['durazno', 'manzana', 'pera']\n"
          ]
        }
      ]
    },
    {
      "cell_type": "markdown",
      "source": [
        "2. Pide al usuario que ingrese una fruta y elimina esa fruta de la lista si existe."
      ],
      "metadata": {
        "id": "q6lZkYhpaRQT"
      }
    },
    {
      "cell_type": "code",
      "source": [
        "frutas = ['durazno', 'manzana', 'pera']\n",
        "\n",
        "print(\"De la siguiente lista de frutas: \", frutas)\n",
        "f = input(\"Ingresa el nombre de la fruta que desea eliminar: \")\n",
        "\n",
        "if f in frutas:\n",
        "  frutas.remove(f)\n",
        "\n",
        "print(\"La nueva lista es: \", frutas)"
      ],
      "metadata": {
        "colab": {
          "base_uri": "https://localhost:8080/"
        },
        "id": "NACIeNf4aTYB",
        "outputId": "9579f868-81d6-48bc-9739-b6d66c92a95c"
      },
      "execution_count": null,
      "outputs": [
        {
          "output_type": "stream",
          "name": "stdout",
          "text": [
            "De la siguiente lista de frutas:  ['durazno', 'manzana', 'pera']\n",
            "Ingresa el nombre de la fruta que desea eliminar: naranja\n",
            "La nueva lista es:  ['durazno', 'manzana', 'pera']\n"
          ]
        }
      ]
    },
    {
      "cell_type": "markdown",
      "source": [
        "3. Pide al usuario que ingrese dos listas y concaténalas."
      ],
      "metadata": {
        "id": "ThmpMbMDb3j1"
      }
    },
    {
      "cell_type": "code",
      "source": [
        "lista1 = input(\"Ingresa una lista de números separados por coma: \")\n",
        "lista2 = input(\"Ingresa otra lista de números separados por coma: \")\n",
        "\n",
        "lista1 = lista1.split(\",\")\n",
        "lista2 = lista2.split(\",\")\n",
        "\n",
        "print(lista1 + lista2)"
      ],
      "metadata": {
        "colab": {
          "base_uri": "https://localhost:8080/"
        },
        "id": "NOedcaw1b4OE",
        "outputId": "ad0672ae-f7ab-4c92-c3ea-8c036ee886ef"
      },
      "execution_count": null,
      "outputs": [
        {
          "output_type": "stream",
          "name": "stdout",
          "text": [
            "Ingresa una lista de números separados por coma: 1,2,3\n",
            "Ingresa otra lista de números separados por coma: 7,8,9\n",
            "['1', '2', '3', '7', '8', '9']\n"
          ]
        }
      ]
    },
    {
      "cell_type": "markdown",
      "source": [
        "4. Pide al usuario que ingrese tres números y ordénalos de menor a mayor en una lista."
      ],
      "metadata": {
        "id": "4K9W5FRpcqBv"
      }
    },
    {
      "cell_type": "code",
      "source": [
        "num1 = int(input(\"Ingrese el primer número: \"))\n",
        "num2 = int(input(\"Ingrese el segundo número: \"))\n",
        "num3 = int(input(\"Ingrese el tercer número: \"))\n",
        "lista = [num1, num2, num3]\n",
        "lista = sorted(lista)\n",
        "print(lista)"
      ],
      "metadata": {
        "colab": {
          "base_uri": "https://localhost:8080/"
        },
        "id": "8NTfTpl1cqrE",
        "outputId": "1b927700-7155-45af-a21b-ea6ae97c164c"
      },
      "execution_count": null,
      "outputs": [
        {
          "output_type": "stream",
          "name": "stdout",
          "text": [
            "Ingrese el primer número: 8\n",
            "Ingrese el segundo número: 2\n",
            "Ingrese el tercer número: 6\n",
            "[2, 6, 8]\n"
          ]
        }
      ]
    },
    {
      "cell_type": "markdown",
      "source": [
        "5. Utiliza un bucle FOR para imprimir cada elemento de una lista"
      ],
      "metadata": {
        "id": "ysHxWWNMdTA9"
      }
    },
    {
      "cell_type": "code",
      "source": [
        "frutas = ['durazno', 'manzana', 'pera', 'naranja']\n",
        "\n",
        "for fruta in frutas:\n",
        "  print(fruta)"
      ],
      "metadata": {
        "colab": {
          "base_uri": "https://localhost:8080/"
        },
        "id": "xo7wy5DGdWgH",
        "outputId": "d184cf94-6aa0-4218-a263-b295e18143ca"
      },
      "execution_count": null,
      "outputs": [
        {
          "output_type": "stream",
          "name": "stdout",
          "text": [
            "durazno\n",
            "manzana\n",
            "pera\n",
            "naranja\n"
          ]
        }
      ]
    },
    {
      "cell_type": "markdown",
      "source": [
        "6. Utiliza un bucle FOR para imprimir los números del 1 al 20"
      ],
      "metadata": {
        "id": "MPB9QELSeJ9T"
      }
    },
    {
      "cell_type": "code",
      "source": [
        "for numero in range(20):\n",
        "  print(numero + 1)"
      ],
      "metadata": {
        "colab": {
          "base_uri": "https://localhost:8080/"
        },
        "id": "GsknLS9eeKrk",
        "outputId": "d94c5b3c-3a3f-4a8a-f85a-9dd6e38c20e0"
      },
      "execution_count": null,
      "outputs": [
        {
          "output_type": "stream",
          "name": "stdout",
          "text": [
            "1\n",
            "2\n",
            "3\n",
            "4\n",
            "5\n",
            "6\n",
            "7\n",
            "8\n",
            "9\n",
            "10\n",
            "11\n",
            "12\n",
            "13\n",
            "14\n",
            "15\n",
            "16\n",
            "17\n",
            "18\n",
            "19\n",
            "20\n"
          ]
        }
      ]
    },
    {
      "cell_type": "markdown",
      "source": [
        "# Tuplas"
      ],
      "metadata": {
        "id": "ywzIHhgOfsvE"
      }
    },
    {
      "cell_type": "code",
      "source": [
        "tupla = (1,2,3)\n",
        "print(tupla[0])"
      ],
      "metadata": {
        "colab": {
          "base_uri": "https://localhost:8080/"
        },
        "id": "2md0gVcdfsRm",
        "outputId": "9eea5f0d-bf9e-4ba9-df74-264c487a0243"
      },
      "execution_count": null,
      "outputs": [
        {
          "output_type": "stream",
          "name": "stdout",
          "text": [
            "1\n"
          ]
        }
      ]
    },
    {
      "cell_type": "code",
      "source": [
        "datos = (\"Alejandro\", 30)\n",
        "\n",
        "nombre, edad = datos\n",
        "\n",
        "print(\"Mi nombre es\",nombre,\"y tengo\",edad,\"años\")"
      ],
      "metadata": {
        "colab": {
          "base_uri": "https://localhost:8080/"
        },
        "id": "51VLVcdMf7dn",
        "outputId": "d21cbb64-c482-46e9-ecc3-a236035d8d87"
      },
      "execution_count": null,
      "outputs": [
        {
          "output_type": "stream",
          "name": "stdout",
          "text": [
            "Mi nombre es Alejandro y tengo 30 años\n"
          ]
        }
      ]
    },
    {
      "cell_type": "markdown",
      "source": [
        "Concatenar tuplas"
      ],
      "metadata": {
        "id": "Vg4VtTLsgmij"
      }
    },
    {
      "cell_type": "code",
      "source": [
        "tupla1 = (1,2,3)\n",
        "tupla2 = (4,5,6)\n",
        "print(tupla1 + tupla2)"
      ],
      "metadata": {
        "colab": {
          "base_uri": "https://localhost:8080/"
        },
        "id": "1tkrBW5GgoGi",
        "outputId": "0f0cbe79-dcf8-4b88-d26f-45ae5376472d"
      },
      "execution_count": null,
      "outputs": [
        {
          "output_type": "stream",
          "name": "stdout",
          "text": [
            "(1, 2, 3, 4, 5, 6)\n"
          ]
        }
      ]
    },
    {
      "cell_type": "markdown",
      "source": [
        "Crea una tupla con elementos repetidos. Cuenta cuántas veces aparece un elemento\n",
        "específico."
      ],
      "metadata": {
        "id": "xhQXedmUg0Nl"
      }
    },
    {
      "cell_type": "code",
      "source": [
        "tupla = (1,2,3,2,4,5,2,7,2,8)\n",
        "print(tupla.count(2))"
      ],
      "metadata": {
        "colab": {
          "base_uri": "https://localhost:8080/"
        },
        "id": "-p6SL73Ig100",
        "outputId": "e416ac32-1577-46c6-bf9e-18adc49564a5"
      },
      "execution_count": null,
      "outputs": [
        {
          "output_type": "stream",
          "name": "stdout",
          "text": [
            "4\n"
          ]
        }
      ]
    },
    {
      "cell_type": "markdown",
      "source": [
        "# Conjuntos"
      ],
      "metadata": {
        "id": "JmIard7rhm8_"
      }
    },
    {
      "cell_type": "code",
      "source": [
        "conjunto = {1,2,3,4,1,2}\n",
        "print(conjunto)"
      ],
      "metadata": {
        "colab": {
          "base_uri": "https://localhost:8080/"
        },
        "id": "FBUWziRIhoeh",
        "outputId": "a9c81c21-12fe-4a1d-c9d3-6e96a4ac3fda"
      },
      "execution_count": null,
      "outputs": [
        {
          "output_type": "stream",
          "name": "stdout",
          "text": [
            "{1, 2, 3, 4}\n"
          ]
        }
      ]
    },
    {
      "cell_type": "code",
      "source": [
        "lista = [1,2,3,4,1,2]\n",
        "lista = list(set(lista))\n",
        "print(lista)"
      ],
      "metadata": {
        "colab": {
          "base_uri": "https://localhost:8080/"
        },
        "id": "WxTMoT18h4dJ",
        "outputId": "20bc6bc0-c33a-48d8-f52c-355e46255e35"
      },
      "execution_count": null,
      "outputs": [
        {
          "output_type": "stream",
          "name": "stdout",
          "text": [
            "[1, 2, 3, 4]\n"
          ]
        }
      ]
    },
    {
      "cell_type": "markdown",
      "source": [
        "Unión e intersección"
      ],
      "metadata": {
        "id": "vdeDFSeviPTu"
      }
    },
    {
      "cell_type": "code",
      "source": [
        "conjunto1 = {2,4,6,8}\n",
        "conjunto2 = {6,7,8,9}\n",
        "\n",
        "union = conjunto1.union(conjunto2)\n",
        "interseccion = conjunto1.intersection(conjunto2)\n",
        "\n",
        "print(union)\n",
        "print(interseccion)"
      ],
      "metadata": {
        "colab": {
          "base_uri": "https://localhost:8080/"
        },
        "id": "CdMcRfQ-iO6p",
        "outputId": "2c589694-aeb5-4118-e89a-e1d4c329a163"
      },
      "execution_count": null,
      "outputs": [
        {
          "output_type": "stream",
          "name": "stdout",
          "text": [
            "{2, 4, 6, 7, 8, 9}\n",
            "{8, 6}\n"
          ]
        }
      ]
    },
    {
      "cell_type": "markdown",
      "source": [
        "# Diccionarios"
      ],
      "metadata": {
        "id": "YxeR3UhfjGyB"
      }
    },
    {
      "cell_type": "code",
      "source": [
        "numeros = {1:\"uno\", 2:\"dos\", 3:\"tres\", 4:\"cuatro\"}\n",
        "\n",
        "print(numeros[3])"
      ],
      "metadata": {
        "colab": {
          "base_uri": "https://localhost:8080/"
        },
        "id": "OcczXzTJjInS",
        "outputId": "2181112a-2017-42f7-91e5-c214d713548f"
      },
      "execution_count": null,
      "outputs": [
        {
          "output_type": "stream",
          "name": "stdout",
          "text": [
            "tres\n"
          ]
        }
      ]
    },
    {
      "cell_type": "markdown",
      "source": [
        "1. Solicita al usuario ingresar información de una persona (nombre, edad, ciudad). Agrega los\n",
        "valores a un diccionario e imprime su información completa."
      ],
      "metadata": {
        "id": "Uz-Z_obrj0LK"
      }
    },
    {
      "cell_type": "code",
      "source": [],
      "metadata": {
        "id": "i3_3tYjIjzu8"
      },
      "execution_count": null,
      "outputs": []
    },
    {
      "cell_type": "markdown",
      "source": [
        "2. Pide al usuario que ingrese un número del 1 al 10. Imprime en formato de texto dicho\n",
        "número"
      ],
      "metadata": {
        "id": "qNjMg2Vnj3iu"
      }
    },
    {
      "cell_type": "code",
      "source": [],
      "metadata": {
        "id": "8CD8u1JLj6NX"
      },
      "execution_count": null,
      "outputs": []
    },
    {
      "cell_type": "markdown",
      "source": [
        "3. Pide al usuario que ingrese dos números y una operación (+, -, *, /). Utiliza un diccionario\n",
        "para realizar la operación deseada y muestra el resultado."
      ],
      "metadata": {
        "id": "QMQX0VQNj8EW"
      }
    },
    {
      "cell_type": "code",
      "source": [],
      "metadata": {
        "id": "7pbDCkpbj-gc"
      },
      "execution_count": null,
      "outputs": []
    },
    {
      "cell_type": "markdown",
      "source": [
        "4. Pide al usuario que ingrese un número del 1 al 10. Imprime en formato de texto todos los\n",
        "números desde el cero hasta el número ingresado."
      ],
      "metadata": {
        "id": "bUKxHzsLj-1t"
      }
    },
    {
      "cell_type": "code",
      "source": [],
      "metadata": {
        "id": "n2gd36D_j_d-"
      },
      "execution_count": null,
      "outputs": []
    }
  ]
}