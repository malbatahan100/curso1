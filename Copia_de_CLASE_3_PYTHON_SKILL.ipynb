{
  "nbformat": 4,
  "nbformat_minor": 0,
  "metadata": {
    "colab": {
      "provenance": [],
      "include_colab_link": true
    },
    "kernelspec": {
      "name": "python3",
      "display_name": "Python 3"
    },
    "language_info": {
      "name": "python"
    }
  },
  "cells": [
    {
      "cell_type": "markdown",
      "metadata": {
        "id": "view-in-github",
        "colab_type": "text"
      },
      "source": [
        "<a href=\"https://colab.research.google.com/github/malbatahan100/curso1/blob/main/Copia_de_CLASE_3_PYTHON_SKILL.ipynb\" target=\"_parent\"><img src=\"https://colab.research.google.com/assets/colab-badge.svg\" alt=\"Open In Colab\"/></a>"
      ]
    },
    {
      "cell_type": "markdown",
      "source": [
        "**1. INSTRUCCIONES**"
      ],
      "metadata": {
        "id": "ItO82or5kXg5"
      }
    },
    {
      "cell_type": "code",
      "source": [
        "#Programa que nos permita manipular un arreglo\n",
        "#Realiza operaciones basicas\n",
        "\n",
        "import os\n",
        "import time\n",
        "\n",
        "def insertar_dato():\n",
        "    dato = input('Ingrese el dato a insertar: ')\n",
        "    arreglo.append(dato)\n",
        "    print('Dato insertado con exito!')\n",
        "    time.sleep(1)\n",
        "    os.system('cls')\n",
        "\n",
        "arreglo = []\n",
        "while True:\n",
        "  print('----MENU PRINCIPAL----'\n",
        "        '\\n 1. Insertar un dato'\n",
        "        '\\n 2. Eliminar un dato'\n",
        "        '\\n 3. Buscar un dato'\n",
        "        '\\n 4. Sobreescribir un dato'\n",
        "        '\\n 5. Mostrar el contenido del arreglo'\n",
        "        '\\n 6. Salir')\n",
        "  opcion = input('Elije una opcion: ')\n",
        "  if opcion == '1':\n",
        "    #dato = input('Ingrese el dato a insertar: ')\n",
        "    #arreglo.append(dato)\n",
        "    #print('Dato insertado con exito!')\n",
        "    #time.sleep(1)\n",
        "    #os.system('cls')\n",
        "    insertar_dato()\n",
        "  elif opcion == '2':\n",
        "    dato=input('Ingrese el dato a eliminar: ')\n",
        "    if (dato in arreglo):\n",
        "      arreglo.remove(dato)\n",
        "      print('Dato eliminado con exito!')\n",
        "      time.sleep(1)\n",
        "      os.system('cls')\n",
        "    else:\n",
        "      print('El dato no existe en el arreglo!')\n",
        "      time.sleep(1)\n",
        "      os.system('cls')\n",
        "  elif opcion == '3':\n",
        "    dato = input('Ingresa el dato a buscar: ')\n",
        "    if (dato in arreglo):\n",
        "      print('El dato existe en el arreglo, en la posicion:',\n",
        "            arreglo.index(dato))\n",
        "      time.sleep(1)\n",
        "      os.system('cls')\n",
        "    else:\n",
        "      print('El dato no existe en el arreglo!')\n",
        "      time.sleep(1)\n",
        "      os.system('cls')\n",
        "  elif opcion == '4':\n",
        "    datoAnterior = input('Ingresa el dato a sobreescribir: ')\n",
        "    if (dato in arreglo):\n",
        "      indice = arreglo.index(datoAnterior)\n",
        "      datoNuevo = input('Digita el nuevo dato: ')\n",
        "      arreglo[indice] = datoNuevo\n",
        "      print('Dato sobreescrito con exito!')\n",
        "      time.sleep(1)\n",
        "      os.system('cls')\n",
        "    else:\n",
        "      print(\"El dato no existe en el arreglo\")\n",
        "      time.sleep(1)\n",
        "      os.system('cls')\n",
        "  elif opcion == '5':\n",
        "    print('El contenido del arreglo es: ')\n",
        "    print(arreglo)\n",
        "    time.sleep(1)\n",
        "    os.system('cls')\n",
        "  elif opcion == '6':\n",
        "    print('Gracias por tu visita! XD')\n",
        "    break\n",
        "  else:\n",
        "    print('Digite una opcion valida! :P')\n",
        "    time.sleep(1)\n",
        "    os.system('cls')\n",
        "\n"
      ],
      "metadata": {
        "colab": {
          "base_uri": "https://localhost:8080/"
        },
        "id": "WuWHz0BTVAZp",
        "outputId": "bb03d8ec-2bab-4450-be81-f13751783ca5"
      },
      "execution_count": null,
      "outputs": [
        {
          "output_type": "stream",
          "name": "stdout",
          "text": [
            "----MENU PRINCIPAL----\n",
            " 1. Insertar un dato\n",
            " 2. Eliminar un dato\n",
            " 3. Buscar un dato\n",
            " 4. Sobreescribir un dato\n",
            " 5. Mostrar el contenido del arreglo\n",
            " 6. Salir\n",
            "Elije una opcion: 1\n",
            "Ingrese el dato a insertar: Lola\n",
            "Dato insertado con exito!\n",
            "----MENU PRINCIPAL----\n",
            " 1. Insertar un dato\n",
            " 2. Eliminar un dato\n",
            " 3. Buscar un dato\n",
            " 4. Sobreescribir un dato\n",
            " 5. Mostrar el contenido del arreglo\n",
            " 6. Salir\n",
            "Elije una opcion: 1\n",
            "Ingrese el dato a insertar: sola\n",
            "Dato insertado con exito!\n",
            "----MENU PRINCIPAL----\n",
            " 1. Insertar un dato\n",
            " 2. Eliminar un dato\n",
            " 3. Buscar un dato\n",
            " 4. Sobreescribir un dato\n",
            " 5. Mostrar el contenido del arreglo\n",
            " 6. Salir\n",
            "Elije una opcion: 5\n",
            "El contenido del arreglo es: \n",
            "['Lola', 'sola']\n",
            "----MENU PRINCIPAL----\n",
            " 1. Insertar un dato\n",
            " 2. Eliminar un dato\n",
            " 3. Buscar un dato\n",
            " 4. Sobreescribir un dato\n",
            " 5. Mostrar el contenido del arreglo\n",
            " 6. Salir\n",
            "Elije una opcion: 6\n",
            "Gracias por tu visita! XD\n"
          ]
        }
      ]
    },
    {
      "cell_type": "markdown",
      "source": [
        "**2. FUNCIONES**"
      ],
      "metadata": {
        "id": "iL0eCfG0iMTz"
      }
    },
    {
      "cell_type": "code",
      "source": [
        "#El programa calcula y muestra el area del circulo utilizando una funcion llamada \"calcular_area_cir\"\n",
        "#que reciba como parametro el radio del circulo y retorna el area calculada\n",
        "\n",
        "import math\n",
        "def calcular_area_cir(radio):\n",
        "  area = math.pi*radio**2\n",
        "  return area\n",
        "\n",
        "radio = (float(input('Escribe el radio del circulo: ')))\n",
        "#Llamada a la funcion\n",
        "areaDelCirculo = calcular_area_cir(radio)\n",
        "print('El area del circulo es:',areaDelCirculo)\n",
        "\n",
        "\n",
        "\n",
        "\n"
      ],
      "metadata": {
        "colab": {
          "base_uri": "https://localhost:8080/"
        },
        "id": "wQJaK-gKiBFS",
        "outputId": "76e0a0ca-4a10-4075-efb6-b300cbb1e969"
      },
      "execution_count": null,
      "outputs": [
        {
          "output_type": "stream",
          "name": "stdout",
          "text": [
            "Escribe el radio del circulo: 2.3\n",
            "El area del circulo es: 16.619025137490002\n"
          ]
        }
      ]
    },
    {
      "cell_type": "markdown",
      "source": [
        "**3. FUNCIONES 2**\n"
      ],
      "metadata": {
        "id": "7ApjdvvGkgQx"
      }
    },
    {
      "cell_type": "code",
      "source": [
        "#Este programa pide numero y determina si el numero es par o impar utilizando una funcion\n",
        "\n",
        "def es_par(numero):\n",
        "  if numero%2 == 0:\n",
        "    return True\n",
        "  else:\n",
        "    return False\n",
        "\n",
        "numero = int(input('Escribe un numero y determianre si es par o impar: '))\n",
        "if  es_par(numero):\n",
        "  print (f'El numero {numero} es par')\n",
        "else:\n",
        "  print (f'El numero {numero} es impar')"
      ],
      "metadata": {
        "colab": {
          "base_uri": "https://localhost:8080/"
        },
        "id": "49_SNuBYkqdS",
        "outputId": "95367ab5-6c4c-4d7f-e4b2-07b0681d53a8"
      },
      "execution_count": null,
      "outputs": [
        {
          "output_type": "stream",
          "name": "stdout",
          "text": [
            "Escribe un numero y determianre si es par o impar: 5425478587850\n",
            "El numero 5425478587850 es par\n"
          ]
        }
      ]
    }
  ]
}