{
  "nbformat": 4,
  "nbformat_minor": 0,
  "metadata": {
    "colab": {
      "provenance": [],
      "include_colab_link": true
    },
    "kernelspec": {
      "name": "python3",
      "display_name": "Python 3"
    },
    "language_info": {
      "name": "python"
    }
  },
  "cells": [
    {
      "cell_type": "markdown",
      "metadata": {
        "id": "view-in-github",
        "colab_type": "text"
      },
      "source": [
        "<a href=\"https://colab.research.google.com/github/malbatahan100/curso1/blob/main/Clase_2.ipynb\" target=\"_parent\"><img src=\"https://colab.research.google.com/assets/colab-badge.svg\" alt=\"Open In Colab\"/></a>"
      ]
    },
    {
      "cell_type": "markdown",
      "source": [
        "# Clase 2"
      ],
      "metadata": {
        "id": "ME6FbCXUfUnp"
      }
    },
    {
      "cell_type": "markdown",
      "source": [
        "Booleanos"
      ],
      "metadata": {
        "id": "jWj0nRlAfXXQ"
      }
    },
    {
      "cell_type": "code",
      "execution_count": null,
      "metadata": {
        "colab": {
          "base_uri": "https://localhost:8080/"
        },
        "id": "CeEWmzh-fO1k",
        "outputId": "f32868fd-385c-4c1a-fd3f-af4f3b4f1998"
      },
      "outputs": [
        {
          "output_type": "execute_result",
          "data": {
            "text/plain": [
              "True"
            ]
          },
          "metadata": {},
          "execution_count": 1
        }
      ],
      "source": [
        "5 < 20"
      ]
    },
    {
      "cell_type": "code",
      "source": [
        "5 > 20"
      ],
      "metadata": {
        "colab": {
          "base_uri": "https://localhost:8080/"
        },
        "id": "D3qUHPd2flgu",
        "outputId": "a0ee933b-09f7-430d-c268-712569d7696d"
      },
      "execution_count": null,
      "outputs": [
        {
          "output_type": "execute_result",
          "data": {
            "text/plain": [
              "False"
            ]
          },
          "metadata": {},
          "execution_count": 2
        }
      ]
    },
    {
      "cell_type": "code",
      "source": [
        "5 == 6"
      ],
      "metadata": {
        "colab": {
          "base_uri": "https://localhost:8080/"
        },
        "id": "iEyFB-Q2fpjL",
        "outputId": "324a2b42-1254-460d-999c-9e4fe37012f9"
      },
      "execution_count": null,
      "outputs": [
        {
          "output_type": "execute_result",
          "data": {
            "text/plain": [
              "False"
            ]
          },
          "metadata": {},
          "execution_count": 4
        }
      ]
    },
    {
      "cell_type": "code",
      "source": [
        "True or False"
      ],
      "metadata": {
        "colab": {
          "base_uri": "https://localhost:8080/"
        },
        "id": "A30Bm0MVf4dE",
        "outputId": "34e5a535-aeb4-4201-9478-cccaa2e9c216"
      },
      "execution_count": null,
      "outputs": [
        {
          "output_type": "execute_result",
          "data": {
            "text/plain": [
              "True"
            ]
          },
          "metadata": {},
          "execution_count": 8
        }
      ]
    },
    {
      "cell_type": "code",
      "source": [
        "True and False"
      ],
      "metadata": {
        "colab": {
          "base_uri": "https://localhost:8080/"
        },
        "id": "liEaaD_mgSxd",
        "outputId": "21c77ade-384a-43fc-fe51-1fdc4bba1f74"
      },
      "execution_count": null,
      "outputs": [
        {
          "output_type": "execute_result",
          "data": {
            "text/plain": [
              "False"
            ]
          },
          "metadata": {},
          "execution_count": 9
        }
      ]
    },
    {
      "cell_type": "code",
      "source": [
        "(6 > 5) and (8 + 2 == 10)"
      ],
      "metadata": {
        "colab": {
          "base_uri": "https://localhost:8080/"
        },
        "id": "glZUlqKTgWnf",
        "outputId": "8e2d3dd8-38a5-4f9d-83ad-f9d8ea8934f4"
      },
      "execution_count": null,
      "outputs": [
        {
          "output_type": "execute_result",
          "data": {
            "text/plain": [
              "True"
            ]
          },
          "metadata": {},
          "execution_count": 11
        }
      ]
    },
    {
      "cell_type": "markdown",
      "source": [
        "Condicionales"
      ],
      "metadata": {
        "id": "TwT3mB-ehequ"
      }
    },
    {
      "cell_type": "code",
      "source": [
        "if (5<4):\n",
        "  print(\"Esta línea de código se ejecuta si 5 < 6\")\n",
        "  print(\"Esta también se ejecuta\")\n",
        "else:\n",
        "  print(\"Esta línea de código en el caso contrario\")\n",
        "\n",
        "print(\"Esta línea siempre se va a ejecutar\")"
      ],
      "metadata": {
        "colab": {
          "base_uri": "https://localhost:8080/"
        },
        "id": "IxafAZKxhgjc",
        "outputId": "49073d93-6f50-4f48-bc08-0174d8a04968"
      },
      "execution_count": null,
      "outputs": [
        {
          "output_type": "stream",
          "name": "stdout",
          "text": [
            "Esta línea de código en el caso contrario\n",
            "Esta línea siempre se va a ejecutar\n"
          ]
        }
      ]
    },
    {
      "cell_type": "markdown",
      "source": [
        "# Ejercicios con Condicionales"
      ],
      "metadata": {
        "id": "0PYPuy2XjP_E"
      }
    },
    {
      "cell_type": "markdown",
      "source": [
        "1. Pide al usuario que ingrese su edad. Imprime un mensaje indicando si es menor o mayor de\n",
        "edad"
      ],
      "metadata": {
        "id": "9Bd8F2csjTv3"
      }
    },
    {
      "cell_type": "code",
      "source": [
        "edad = int(input(\"Ingrese su edad: \"))\n",
        "\n",
        "if edad < 18:\n",
        "  print(\"Eres menor de edad\")\n",
        "else:\n",
        "  print(\"Eres mayor de edad\")"
      ],
      "metadata": {
        "colab": {
          "base_uri": "https://localhost:8080/"
        },
        "id": "tgz0YU6sjWFu",
        "outputId": "f7140bff-b834-4a43-9ab6-c22b733b4d02"
      },
      "execution_count": null,
      "outputs": [
        {
          "output_type": "stream",
          "name": "stdout",
          "text": [
            "Ingrese su edad: 20\n",
            "Eres mayor de edad\n"
          ]
        }
      ]
    },
    {
      "cell_type": "code",
      "source": [
        "edad = int(input(\"Ingrese su edad: \"))\n",
        "\n",
        "if edad >= 18:\n",
        "  print(\"Eres mayor de edad\")\n",
        "else:\n",
        "  print(\"Eres menor de edad\")"
      ],
      "metadata": {
        "colab": {
          "base_uri": "https://localhost:8080/"
        },
        "id": "N_kZNLSAkk7x",
        "outputId": "2a0ad3f6-afdb-4d8f-9e26-69e888217680"
      },
      "execution_count": null,
      "outputs": [
        {
          "output_type": "stream",
          "name": "stdout",
          "text": [
            "Ingrese su edad: 18\n",
            "Eres mayor de edad\n"
          ]
        }
      ]
    },
    {
      "cell_type": "markdown",
      "source": [
        "2. Pide al usuario ingresar un número. Imprime un mensaje indicando si el número es par o\n",
        "impar."
      ],
      "metadata": {
        "id": "6DwU3hVXk4IX"
      }
    },
    {
      "cell_type": "code",
      "source": [
        "num = int(input(\"Ingrese un número entero: \"))\n",
        "\n",
        "if num % 2 == 0:\n",
        "  print(\"El número\", num, \"es par\")\n",
        "else:\n",
        "  print(\"El número\", num, \"es impar\")"
      ],
      "metadata": {
        "colab": {
          "base_uri": "https://localhost:8080/"
        },
        "id": "-DKetJ_Ik6ie",
        "outputId": "5d92c56c-5369-4ad8-c0db-b207c430a188"
      },
      "execution_count": null,
      "outputs": [
        {
          "output_type": "stream",
          "name": "stdout",
          "text": [
            "Ingrese un número entero: 6\n",
            "El número 6 es par\n"
          ]
        }
      ]
    },
    {
      "cell_type": "code",
      "source": [
        "7 % 2"
      ],
      "metadata": {
        "colab": {
          "base_uri": "https://localhost:8080/"
        },
        "id": "UIPKdw3RlNRE",
        "outputId": "4f0a21d8-0643-431e-e53f-4662bbd437f6"
      },
      "execution_count": null,
      "outputs": [
        {
          "output_type": "execute_result",
          "data": {
            "text/plain": [
              "1"
            ]
          },
          "metadata": {},
          "execution_count": 25
        }
      ]
    },
    {
      "cell_type": "markdown",
      "source": [
        "3. Crea previamente una contraseña, luego pide al usuario que ingrese la contraseña. Imprime\n",
        "un mensaje indicando si la contraseña ingresada por el usuario es correcta o no."
      ],
      "metadata": {
        "id": "r8ENnZB7mJ7t"
      }
    },
    {
      "cell_type": "code",
      "source": [
        "contrasena = \"Python123\"\n",
        "\n",
        "contr = input(\"Ingrese la contraseña: \")\n",
        "\n",
        "if contr == contrasena:\n",
        "  print(\"La contraseña es correcta\")\n",
        "else:\n",
        "  contr = input(\"La contraseña es incorrecta. Ingrese nuevamente: \")\n",
        "  if contr == contrasena:\n",
        "    print(\"La contraseña es correcta\")\n",
        "  else:\n",
        "    print(\"La contraseña es incorrecta\")\n"
      ],
      "metadata": {
        "colab": {
          "base_uri": "https://localhost:8080/"
        },
        "id": "-zicSvFPmLqd",
        "outputId": "ee37002a-e77d-42c4-dc02-e3a5feb4be94"
      },
      "execution_count": null,
      "outputs": [
        {
          "output_type": "stream",
          "name": "stdout",
          "text": [
            "Ingrese la contraseña: 12345\n",
            "La contraseña es incorrecta. Ingrese nuevamente: 123456\n",
            "La contraseña es incorrecta\n"
          ]
        }
      ]
    },
    {
      "cell_type": "markdown",
      "source": [
        "4. Pide al usuario ingresar dos números y una operación (+, -, *, /). Realiza cada una de las\n",
        "operaciones con los números ingresados e imprime todos los resultados."
      ],
      "metadata": {
        "id": "cYUbBksSoecI"
      }
    },
    {
      "cell_type": "code",
      "source": [
        "num1 = float(input(\"Ingrese el primer número: \"))\n",
        "num2 = float(input(\"Ingrese el segundo número: \"))\n",
        "operador = input(\"Ingrese un operador (+,-,*,/): \")\n",
        "\n",
        "if operador == \"+\":\n",
        "  print(num1, \"+\", num2, \"=\", num1 + num2)\n",
        "elif operador == \"-\":\n",
        "  print(num1, \"-\", num2, \"=\", num1 - num2)\n",
        "elif operador == \"*\":\n",
        "  print(num1, \"x\", num2, \"=\", num1 * num2)\n",
        "elif operador == \"/\":\n",
        "  if num2 == 0:\n",
        "    print(\"No se puede dividir entre cero\")\n",
        "  else:\n",
        "    print(num1, \"/\", num2, \"=\", num1 / num2)\n",
        "else:\n",
        "  print(\"Operador inválido\")\n"
      ],
      "metadata": {
        "colab": {
          "base_uri": "https://localhost:8080/"
        },
        "id": "0F1lRbgxofMf",
        "outputId": "57204bdf-6cbd-4a71-f869-53c07334897f"
      },
      "execution_count": null,
      "outputs": [
        {
          "output_type": "stream",
          "name": "stdout",
          "text": [
            "Ingrese el primer número: 8\n",
            "Ingrese el segundo número: 0\n",
            "Ingrese un operador (+,-,*,/): /\n",
            "No se puede dividir entre cero\n"
          ]
        }
      ]
    },
    {
      "cell_type": "markdown",
      "source": [
        "# Ejercicios con bucles"
      ],
      "metadata": {
        "id": "subUVbedsSaE"
      }
    },
    {
      "cell_type": "markdown",
      "source": [
        "1. Utiliza un bucle WHILE para imprimir los números del 1 al 20"
      ],
      "metadata": {
        "id": "j-2mC8QxsXi1"
      }
    },
    {
      "cell_type": "code",
      "source": [
        "contador = 1\n",
        "while contador <= 20:\n",
        "  print(contador)\n",
        "  contador += 1"
      ],
      "metadata": {
        "colab": {
          "base_uri": "https://localhost:8080/"
        },
        "id": "UoYxK2OssWwQ",
        "outputId": "8d68d602-d5e4-4fc2-97f4-21c5ac0b3e97"
      },
      "execution_count": null,
      "outputs": [
        {
          "output_type": "stream",
          "name": "stdout",
          "text": [
            "1\n",
            "2\n",
            "3\n",
            "4\n",
            "5\n",
            "6\n",
            "7\n",
            "8\n",
            "9\n",
            "10\n",
            "11\n",
            "12\n",
            "13\n",
            "14\n",
            "15\n",
            "16\n",
            "17\n",
            "18\n",
            "19\n",
            "20\n"
          ]
        }
      ]
    },
    {
      "cell_type": "markdown",
      "source": [
        "2. Pide al usuario que ingrese un número e imprime su tabla de multiplicar del 1 al 12."
      ],
      "metadata": {
        "id": "biQPtfjCt3lM"
      }
    },
    {
      "cell_type": "code",
      "source": [
        "num = int(input(\"Ingrese un número entero: \"))\n",
        "\n",
        "contador = 1\n",
        "while contador <= 12:\n",
        "  print(num, \"x\", contador, \"=\", num*contador )\n",
        "  contador += 1\n"
      ],
      "metadata": {
        "colab": {
          "base_uri": "https://localhost:8080/"
        },
        "id": "Jn-eFsl2t5_b",
        "outputId": "07e9e4c2-b3da-4561-befc-deb801710702"
      },
      "execution_count": null,
      "outputs": [
        {
          "output_type": "stream",
          "name": "stdout",
          "text": [
            "Ingrese un número entero: 9\n",
            "9 x 1 = 9\n",
            "9 x 2 = 18\n",
            "9 x 3 = 27\n",
            "9 x 4 = 36\n",
            "9 x 5 = 45\n",
            "9 x 6 = 54\n",
            "9 x 7 = 63\n",
            "9 x 8 = 72\n",
            "9 x 9 = 81\n",
            "9 x 10 = 90\n",
            "9 x 11 = 99\n",
            "9 x 12 = 108\n"
          ]
        }
      ]
    },
    {
      "cell_type": "markdown",
      "source": [
        "3. Crea previamente una contraseña, luego pide al usuario que ingrese la contraseña. Mientras\n",
        "la contraseña ingresada no sea la correcta, pídele que la vuelva a ingresar hasta que le atine."
      ],
      "metadata": {
        "id": "BrjxDD0jvTEY"
      }
    },
    {
      "cell_type": "code",
      "source": [
        "contrasena = \"Python123\"\n",
        "\n",
        "while  True:\n",
        "  contr = input(\"Ingrese la contraseña: \")\n",
        "  if contr == contrasena:\n",
        "    print(\"La contraseña es correcta\")\n",
        "    break\n",
        "  else:\n",
        "    print(\"La contraseña es incorrecta. Intente nuevamente\")\n"
      ],
      "metadata": {
        "colab": {
          "base_uri": "https://localhost:8080/"
        },
        "id": "NDyEu-I7vWRO",
        "outputId": "3d2ffed7-13ae-4c80-fbc1-41afffaf09a8"
      },
      "execution_count": null,
      "outputs": [
        {
          "output_type": "stream",
          "name": "stdout",
          "text": [
            "Ingrese la contraseña: 123\n",
            "La contraseña es incorrecta. Intente nuevamente\n",
            "Ingrese la contraseña: Python\n",
            "La contraseña es incorrecta. Intente nuevamente\n",
            "Ingrese la contraseña: Python12345\n",
            "La contraseña es incorrecta. Intente nuevamente\n",
            "Ingrese la contraseña: Python123\n",
            "La contraseña es correcta\n"
          ]
        }
      ]
    },
    {
      "cell_type": "code",
      "source": [
        "contra = \"1234\"\n",
        "n= \"\"\n",
        "while contra != n:\n",
        "    n = input(\"ingre contra : \")"
      ],
      "metadata": {
        "colab": {
          "base_uri": "https://localhost:8080/"
        },
        "id": "-cRVOntoxJ9l",
        "outputId": "a5056aaa-de6d-4be7-9bd9-3d7aa570c366"
      },
      "execution_count": null,
      "outputs": [
        {
          "name": "stdout",
          "output_type": "stream",
          "text": [
            "ingre contra : 12345\n",
            "ingre contra : 123456\n",
            "ingre contra : 1234\n"
          ]
        }
      ]
    },
    {
      "cell_type": "markdown",
      "source": [
        "4. Genera un número aleatorio entre 1 y 10. Pide al usuario ingresar un número hasta que lo\n",
        "adivine. Para este ejercicio, será necesario importar la librería random"
      ],
      "metadata": {
        "id": "Bw7m8c5zxu3T"
      }
    },
    {
      "cell_type": "code",
      "source": [
        "import random\n",
        "\n",
        "numero_aleatorio = random.randint(1,10)\n",
        "intentos = 0\n",
        "\n",
        "while True:\n",
        "  num = int(input(\"Intenta adivinar el número: \"))\n",
        "  if num == numero_aleatorio:\n",
        "    print(\"Lo adivinaste!\")\n",
        "    intentos += 1\n",
        "    break\n",
        "  else:\n",
        "    print(\"Te equivocaste, intenta de nuevo.\")\n",
        "    intentos += 1\n",
        "\n",
        "print(\"Te tomó\",intentos,\"intentos\")"
      ],
      "metadata": {
        "colab": {
          "base_uri": "https://localhost:8080/"
        },
        "id": "6fUlz1rhxvbS",
        "outputId": "9177e7d1-f12f-46e2-eae5-7ca00f8dc25e"
      },
      "execution_count": null,
      "outputs": [
        {
          "output_type": "stream",
          "name": "stdout",
          "text": [
            "Intenta adivinar el número: 5\n",
            "Te equivocaste, intenta de nuevo.\n",
            "Intenta adivinar el número: 9\n",
            "Lo adivinaste!\n",
            "Te tomó 2 intentos\n"
          ]
        }
      ]
    },
    {
      "cell_type": "markdown",
      "source": [
        "# Más ejercicios para practicar"
      ],
      "metadata": {
        "id": "xuKllfsy0AjJ"
      }
    },
    {
      "cell_type": "markdown",
      "source": [
        "1. Pide al usuario que ingrese 2 números. Imprime un mensaje indicando si los números son iguales o no"
      ],
      "metadata": {
        "id": "dHX0yjra0C-d"
      }
    },
    {
      "cell_type": "code",
      "source": [
        "num1 = int(input(\"Ingrese el primer número: \"))\n",
        "num2 = int(input(\"Ingrese el segundo número: \"))\n",
        "\n",
        "if num1 == num2:\n",
        "  print(\"Los números son iguales\")\n",
        "else:\n",
        "  print(\"Los números son diferentes\")"
      ],
      "metadata": {
        "id": "fXugG5dX0Dsj",
        "colab": {
          "base_uri": "https://localhost:8080/"
        },
        "outputId": "3abc5665-ff0e-4baf-9e7d-2d4dee924f0f"
      },
      "execution_count": null,
      "outputs": [
        {
          "output_type": "stream",
          "name": "stdout",
          "text": [
            "Ingrese el primer número: 9\n",
            "Ingrese el segundo número: 9\n",
            "Los números son iguales\n"
          ]
        }
      ]
    },
    {
      "cell_type": "markdown",
      "source": [
        "2. Pide al usuario que ingrese un número. Imprime un mensaje indicando si el número es positivo, negativo\n",
        "o cero."
      ],
      "metadata": {
        "id": "BoVBP0C10EBN"
      }
    },
    {
      "cell_type": "code",
      "source": [
        "num1 = float(input(\"ingresa un numero: \"))\n",
        "if num1 < 0:\n",
        "  print(\"el numero\",num1, \"es negativo\")\n",
        "elif num1 > 0:\n",
        "  print(\"el numero\",num1, \"es positivo\")\n",
        "else:\n",
        "  print(\"el numero es cero\")"
      ],
      "metadata": {
        "id": "0jDKYLZH0GEL",
        "colab": {
          "base_uri": "https://localhost:8080/"
        },
        "outputId": "a29bfe22-49dd-4ebc-89d3-5f187e5a18a9"
      },
      "execution_count": null,
      "outputs": [
        {
          "output_type": "stream",
          "name": "stdout",
          "text": [
            "ingresa un numero: 8\n",
            "el numero 8.0 es positivo\n"
          ]
        }
      ]
    },
    {
      "cell_type": "markdown",
      "source": [
        "3. Pide al usuario ingresar las 3 longitudes de los lados de un triángulo. Imprime un mensaje indicando si el\n",
        "triángulo es equilátero, isósceles o escaleno."
      ],
      "metadata": {
        "id": "RHw-yb2x0Hv4"
      }
    },
    {
      "cell_type": "code",
      "source": [
        "a = float(input(\"Ingrese la longitud del primer lado: \"))\n",
        "b = float(input(\"Ingrese la longitud del segundo lado: \"))\n",
        "c = float(input(\"Ingrese la longitud del tercer lado: \"))\n",
        "\n",
        "if (a>0) and (b>0) and (c>0) and (a < b + c) and (b < a + c) and (c < a + b):\n",
        "  if (a == b) and (b == c):\n",
        "    print(\"El triángulo es equilátero\")\n",
        "  if (a == b) or (b == c) or (a == c):\n",
        "    print(\"El triángulo es isósceles\")\n",
        "  else:\n",
        "    print(\"El triángulo es escaleno\")\n",
        "else:\n",
        "  print(\"El triángulo no existe\")"
      ],
      "metadata": {
        "id": "hPiCwjzR0IYm",
        "colab": {
          "base_uri": "https://localhost:8080/"
        },
        "outputId": "ab16b417-df73-4d94-8eef-d52df308fa4f"
      },
      "execution_count": null,
      "outputs": [
        {
          "output_type": "stream",
          "name": "stdout",
          "text": [
            "Ingrese la longitud del primer lado: 3\n",
            "Ingrese la longitud del segundo lado: 3\n",
            "Ingrese la longitud del tercer lado: 5\n",
            "El triángulo es isósceles\n"
          ]
        }
      ]
    },
    {
      "cell_type": "markdown",
      "source": [
        "4. Pide al usuario que ingrese su peso (kg) y estatura (m). Imprime un mensaje indicando su IMC y su\n",
        "estado según su nivel de peso."
      ],
      "metadata": {
        "id": "YkpdBczB0KBn"
      }
    },
    {
      "cell_type": "code",
      "source": [
        "peso = float(input(\"ingresa tu peso(kg): \"))\n",
        "estatura = float(input(\"ingresa tu estatura(m): \"))\n",
        "imc = round(float(peso/estatura**2),2)\n",
        "print(\"tu IMC es:\",imc)\n",
        "if imc < 18.5:\n",
        " print(\"tu estado segun tu nivel de peso es bajo peso\")\n",
        "elif imc < 24.9:\n",
        " print(\"tu estado segun tu nivel de peso es normal\")\n",
        "elif imc < 29.9:\n",
        "  print(\"tu estado segun tu nivel de peso es sobrepeso\")\n",
        "else:\n",
        " print(\"tu estado segun tu nivel de peso es obesidad\")"
      ],
      "metadata": {
        "id": "HGn0zZLV0Ky7",
        "colab": {
          "base_uri": "https://localhost:8080/"
        },
        "outputId": "de53ec08-d1a3-48fd-f502-faa7b8045d8e"
      },
      "execution_count": null,
      "outputs": [
        {
          "output_type": "stream",
          "name": "stdout",
          "text": [
            "ingresa tu peso(kg): 120\n",
            "ingresa tu estatura(m): 1.60\n",
            "tu IMC es: 46.87\n",
            "tu estado segun tu nivel de peso es obesidad\n"
          ]
        }
      ]
    },
    {
      "cell_type": "markdown",
      "source": [
        "5. Pide al usuario que ingrese el monto principal, la tasa de interés y el tiempo. Calcula el interés\n",
        "compuesto"
      ],
      "metadata": {
        "id": "YkK9Dt3q0K_X"
      }
    },
    {
      "cell_type": "code",
      "source": [
        "ci = float(input(\"Ingrese el monto inicial (S/.): \"))\n",
        "i = float(input(\"Ingrese la tasa de interés (%): \"))\n",
        "n = int(input(\"Ingrese la cantidad de meses: \"))\n",
        "\n",
        "i = i/100\n",
        "\n",
        "cf = round(ci*(1 + i)**n,2)\n",
        "\n",
        "print(\"El monto final es S/.\", cf)"
      ],
      "metadata": {
        "id": "KsSxOxWK0NCX",
        "colab": {
          "base_uri": "https://localhost:8080/"
        },
        "outputId": "758ed26d-39d8-48ca-bde0-388d37303328"
      },
      "execution_count": null,
      "outputs": [
        {
          "output_type": "stream",
          "name": "stdout",
          "text": [
            "Ingrese el monto inicial (S/.): 1500\n",
            "Ingrese la tasa de interés (%): 5\n",
            "Ingrese la cantidad de meses: 6\n",
            "El monto final es S/. 2010.14\n"
          ]
        }
      ]
    }
  ]
}